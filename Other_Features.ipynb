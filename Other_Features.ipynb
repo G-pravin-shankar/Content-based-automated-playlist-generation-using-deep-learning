{
 "cells": [
  {
   "cell_type": "code",
   "execution_count": 1,
   "metadata": {},
   "outputs": [],
   "source": [
    "import warnings\n",
    "warnings.filterwarnings(\"ignore\")\n",
    "import shutil\n",
    "import os\n",
    "import pandas as pd\n",
    "import matplotlib\n",
    "matplotlib.use(u'nbAgg')\n",
    "import matplotlib.pyplot as plt\n",
    "import seaborn as sns\n",
    "import numpy as np\n",
    "import pickle\n",
    "from sklearn.manifold import TSNE\n",
    "from sklearn import preprocessing\n",
    "import pandas as pd\n",
    "from multiprocessing import Process\n",
    "import multiprocessing\n",
    "import librosa\n",
    "import IPython.display as ipd\n",
    "import librosa.display\n",
    "import sklearn"
   ]
  },
  {
   "cell_type": "code",
   "execution_count": 6,
   "metadata": {},
   "outputs": [
    {
     "data": {
      "text/plain": [
       "7997"
      ]
     },
     "execution_count": 6,
     "metadata": {},
     "output_type": "execute_result"
    }
   ],
   "source": [
    "filename=os.listdir('/home/pravinshankar1/audios')\n",
    "filename.remove('099134.mp3')#unreadable audio\n",
    "filename.remove('108925.mp3')#unreadable audio\n",
    "filename.remove('133297.mp3')#unreadable audio\n",
    "filename.remove('checksums')#not audio\n",
    "filename.remove('README.txt')#not audio\n",
    "len(filename)"
   ]
  },
  {
   "cell_type": "code",
   "execution_count": 7,
   "metadata": {},
   "outputs": [],
   "source": [
    "#remvoing .mp3 and converting name of audio as int so that we can use it for ordering\n",
    "name=[]\n",
    "for i in filename:\n",
    "    name.append(int(i.split('.')[0])) "
   ]
  },
  {
   "cell_type": "code",
   "execution_count": 8,
   "metadata": {},
   "outputs": [],
   "source": [
    "order=np.argsort(name) #ordering based on audio name. eg: 02,05,10,..."
   ]
  },
  {
   "cell_type": "code",
   "execution_count": 9,
   "metadata": {},
   "outputs": [],
   "source": [
    "#filename ordered based on its name\n",
    "order_filename=[]\n",
    "for i in order:\n",
    "    order_filename.append(filename[i])"
   ]
  },
  {
   "cell_type": "code",
   "execution_count": 10,
   "metadata": {},
   "outputs": [
    {
     "data": {
      "text/plain": [
       "['000002.mp3',\n",
       " '000005.mp3',\n",
       " '000010.mp3',\n",
       " '000140.mp3',\n",
       " '000141.mp3',\n",
       " '000148.mp3',\n",
       " '000182.mp3',\n",
       " '000190.mp3',\n",
       " '000193.mp3',\n",
       " '000194.mp3']"
      ]
     },
     "execution_count": 10,
     "metadata": {},
     "output_type": "execute_result"
    }
   ],
   "source": [
    "order_filename[0:10]"
   ]
  },
  {
   "cell_type": "code",
   "execution_count": 11,
   "metadata": {},
   "outputs": [],
   "source": [
    "np.save('order_filename', order_filename)"
   ]
  },
  {
   "cell_type": "code",
   "execution_count": 12,
   "metadata": {},
   "outputs": [],
   "source": [
    "order_filename=np.load('order_filename.npy')"
   ]
  },
  {
   "cell_type": "markdown",
   "metadata": {},
   "source": [
    "## FMA_features:"
   ]
  },
  {
   "cell_type": "code",
   "execution_count": 5,
   "metadata": {},
   "outputs": [
    {
     "data": {
      "text/html": [
       "<div>\n",
       "<style scoped>\n",
       "    .dataframe tbody tr th:only-of-type {\n",
       "        vertical-align: middle;\n",
       "    }\n",
       "\n",
       "    .dataframe tbody tr th {\n",
       "        vertical-align: top;\n",
       "    }\n",
       "\n",
       "    .dataframe thead th {\n",
       "        text-align: right;\n",
       "    }\n",
       "</style>\n",
       "<table border=\"1\" class=\"dataframe\">\n",
       "  <thead>\n",
       "    <tr style=\"text-align: right;\">\n",
       "      <th></th>\n",
       "      <th>(chroma_cens, kurtosis)</th>\n",
       "      <th>('chroma_cens', 'kurtosis').1</th>\n",
       "      <th>('chroma_cens', 'kurtosis').2</th>\n",
       "      <th>('chroma_cens', 'kurtosis').3</th>\n",
       "      <th>('chroma_cens', 'kurtosis').4</th>\n",
       "      <th>('chroma_cens', 'kurtosis').5</th>\n",
       "      <th>('chroma_cens', 'kurtosis').6</th>\n",
       "      <th>('chroma_cens', 'kurtosis').7</th>\n",
       "      <th>('chroma_cens', 'kurtosis').8</th>\n",
       "      <th>('chroma_cens', 'kurtosis').9</th>\n",
       "      <th>...</th>\n",
       "      <th>('tonnetz', 'std').3</th>\n",
       "      <th>('tonnetz', 'std').4</th>\n",
       "      <th>('tonnetz', 'std').5</th>\n",
       "      <th>(zcr, kurtosis)</th>\n",
       "      <th>(zcr, max)</th>\n",
       "      <th>(zcr, mean)</th>\n",
       "      <th>(zcr, median)</th>\n",
       "      <th>(zcr, min)</th>\n",
       "      <th>(zcr, skew)</th>\n",
       "      <th>(zcr, std)</th>\n",
       "    </tr>\n",
       "  </thead>\n",
       "  <tbody>\n",
       "    <tr>\n",
       "      <th>number</th>\n",
       "      <td>1.000000</td>\n",
       "      <td>2.000000</td>\n",
       "      <td>3.000000</td>\n",
       "      <td>4.000000</td>\n",
       "      <td>5.000000</td>\n",
       "      <td>6.000000</td>\n",
       "      <td>7.000000</td>\n",
       "      <td>8.000000</td>\n",
       "      <td>9.000000</td>\n",
       "      <td>10.000000</td>\n",
       "      <td>...</td>\n",
       "      <td>4.000000</td>\n",
       "      <td>5.000000</td>\n",
       "      <td>6.000000</td>\n",
       "      <td>1.000000</td>\n",
       "      <td>1.000000</td>\n",
       "      <td>1.000000</td>\n",
       "      <td>1.000000</td>\n",
       "      <td>1.0</td>\n",
       "      <td>1.000000</td>\n",
       "      <td>1.000000</td>\n",
       "    </tr>\n",
       "    <tr>\n",
       "      <th>track_id</th>\n",
       "      <td>NaN</td>\n",
       "      <td>NaN</td>\n",
       "      <td>NaN</td>\n",
       "      <td>NaN</td>\n",
       "      <td>NaN</td>\n",
       "      <td>NaN</td>\n",
       "      <td>NaN</td>\n",
       "      <td>NaN</td>\n",
       "      <td>NaN</td>\n",
       "      <td>NaN</td>\n",
       "      <td>...</td>\n",
       "      <td>NaN</td>\n",
       "      <td>NaN</td>\n",
       "      <td>NaN</td>\n",
       "      <td>NaN</td>\n",
       "      <td>NaN</td>\n",
       "      <td>NaN</td>\n",
       "      <td>NaN</td>\n",
       "      <td>NaN</td>\n",
       "      <td>NaN</td>\n",
       "      <td>NaN</td>\n",
       "    </tr>\n",
       "    <tr>\n",
       "      <th>2</th>\n",
       "      <td>7.180653</td>\n",
       "      <td>5.230309</td>\n",
       "      <td>0.249321</td>\n",
       "      <td>1.347620</td>\n",
       "      <td>1.482478</td>\n",
       "      <td>0.531371</td>\n",
       "      <td>1.481593</td>\n",
       "      <td>2.691455</td>\n",
       "      <td>0.866868</td>\n",
       "      <td>1.341231</td>\n",
       "      <td>...</td>\n",
       "      <td>0.054125</td>\n",
       "      <td>0.012226</td>\n",
       "      <td>0.012111</td>\n",
       "      <td>5.758890</td>\n",
       "      <td>0.459473</td>\n",
       "      <td>0.085629</td>\n",
       "      <td>0.071289</td>\n",
       "      <td>0.0</td>\n",
       "      <td>2.089872</td>\n",
       "      <td>0.061448</td>\n",
       "    </tr>\n",
       "    <tr>\n",
       "      <th>3</th>\n",
       "      <td>1.888963</td>\n",
       "      <td>0.760539</td>\n",
       "      <td>0.345297</td>\n",
       "      <td>2.295201</td>\n",
       "      <td>1.654031</td>\n",
       "      <td>0.067592</td>\n",
       "      <td>1.366848</td>\n",
       "      <td>1.054094</td>\n",
       "      <td>0.108103</td>\n",
       "      <td>0.619185</td>\n",
       "      <td>...</td>\n",
       "      <td>0.063831</td>\n",
       "      <td>0.014212</td>\n",
       "      <td>0.017740</td>\n",
       "      <td>2.824694</td>\n",
       "      <td>0.466309</td>\n",
       "      <td>0.084578</td>\n",
       "      <td>0.063965</td>\n",
       "      <td>0.0</td>\n",
       "      <td>1.716724</td>\n",
       "      <td>0.069330</td>\n",
       "    </tr>\n",
       "    <tr>\n",
       "      <th>5</th>\n",
       "      <td>0.527563</td>\n",
       "      <td>-0.077654</td>\n",
       "      <td>-0.279610</td>\n",
       "      <td>0.685883</td>\n",
       "      <td>1.937570</td>\n",
       "      <td>0.880839</td>\n",
       "      <td>-0.923192</td>\n",
       "      <td>-0.927232</td>\n",
       "      <td>0.666617</td>\n",
       "      <td>1.038546</td>\n",
       "      <td>...</td>\n",
       "      <td>0.040730</td>\n",
       "      <td>0.012691</td>\n",
       "      <td>0.014759</td>\n",
       "      <td>6.808415</td>\n",
       "      <td>0.375000</td>\n",
       "      <td>0.053114</td>\n",
       "      <td>0.041504</td>\n",
       "      <td>0.0</td>\n",
       "      <td>2.193303</td>\n",
       "      <td>0.044861</td>\n",
       "    </tr>\n",
       "  </tbody>\n",
       "</table>\n",
       "<p>5 rows × 518 columns</p>\n",
       "</div>"
      ],
      "text/plain": [
       "          (chroma_cens, kurtosis)  ('chroma_cens', 'kurtosis').1  \\\n",
       "number                   1.000000                       2.000000   \n",
       "track_id                      NaN                            NaN   \n",
       "2                        7.180653                       5.230309   \n",
       "3                        1.888963                       0.760539   \n",
       "5                        0.527563                      -0.077654   \n",
       "\n",
       "          ('chroma_cens', 'kurtosis').2  ('chroma_cens', 'kurtosis').3  \\\n",
       "number                         3.000000                       4.000000   \n",
       "track_id                            NaN                            NaN   \n",
       "2                              0.249321                       1.347620   \n",
       "3                              0.345297                       2.295201   \n",
       "5                             -0.279610                       0.685883   \n",
       "\n",
       "          ('chroma_cens', 'kurtosis').4  ('chroma_cens', 'kurtosis').5  \\\n",
       "number                         5.000000                       6.000000   \n",
       "track_id                            NaN                            NaN   \n",
       "2                              1.482478                       0.531371   \n",
       "3                              1.654031                       0.067592   \n",
       "5                              1.937570                       0.880839   \n",
       "\n",
       "          ('chroma_cens', 'kurtosis').6  ('chroma_cens', 'kurtosis').7  \\\n",
       "number                         7.000000                       8.000000   \n",
       "track_id                            NaN                            NaN   \n",
       "2                              1.481593                       2.691455   \n",
       "3                              1.366848                       1.054094   \n",
       "5                             -0.923192                      -0.927232   \n",
       "\n",
       "          ('chroma_cens', 'kurtosis').8  ('chroma_cens', 'kurtosis').9  ...  \\\n",
       "number                         9.000000                      10.000000  ...   \n",
       "track_id                            NaN                            NaN  ...   \n",
       "2                              0.866868                       1.341231  ...   \n",
       "3                              0.108103                       0.619185  ...   \n",
       "5                              0.666617                       1.038546  ...   \n",
       "\n",
       "          ('tonnetz', 'std').3  ('tonnetz', 'std').4  ('tonnetz', 'std').5  \\\n",
       "number                4.000000              5.000000              6.000000   \n",
       "track_id                   NaN                   NaN                   NaN   \n",
       "2                     0.054125              0.012226              0.012111   \n",
       "3                     0.063831              0.014212              0.017740   \n",
       "5                     0.040730              0.012691              0.014759   \n",
       "\n",
       "          (zcr, kurtosis)  (zcr, max)  (zcr, mean)  (zcr, median)  (zcr, min)  \\\n",
       "number           1.000000    1.000000     1.000000       1.000000         1.0   \n",
       "track_id              NaN         NaN          NaN            NaN         NaN   \n",
       "2                5.758890    0.459473     0.085629       0.071289         0.0   \n",
       "3                2.824694    0.466309     0.084578       0.063965         0.0   \n",
       "5                6.808415    0.375000     0.053114       0.041504         0.0   \n",
       "\n",
       "          (zcr, skew)  (zcr, std)  \n",
       "number       1.000000    1.000000  \n",
       "track_id          NaN         NaN  \n",
       "2            2.089872    0.061448  \n",
       "3            1.716724    0.069330  \n",
       "5            2.193303    0.044861  \n",
       "\n",
       "[5 rows x 518 columns]"
      ]
     },
     "execution_count": 5,
     "metadata": {},
     "output_type": "execute_result"
    }
   ],
   "source": [
    "features = pd.read_csv('features.csv', index_col=0, header=[0, 1])\n",
    "features.head()"
   ]
  },
  {
   "cell_type": "code",
   "execution_count": 13,
   "metadata": {},
   "outputs": [
    {
     "data": {
      "text/plain": [
       "array(['2', '3', '5', ..., 155318, 155319, 155320], dtype=object)"
      ]
     },
     "execution_count": 13,
     "metadata": {},
     "output_type": "execute_result"
    }
   ],
   "source": [
    "ind=features.index.values\n",
    "ind=ind[2:]\n",
    "ind"
   ]
  },
  {
   "cell_type": "code",
   "execution_count": 14,
   "metadata": {},
   "outputs": [
    {
     "data": {
      "text/plain": [
       "(518,)"
      ]
     },
     "execution_count": 14,
     "metadata": {},
     "output_type": "execute_result"
    }
   ],
   "source": [
    "features.loc['2'].values.shape"
   ]
  },
  {
   "cell_type": "code",
   "execution_count": 16,
   "metadata": {},
   "outputs": [],
   "source": [
    "#removing .mp3 from ordered filenames\n",
    "name=[]\n",
    "for i in order_filename:\n",
    "    name.append(int(i.split('.')[0]))"
   ]
  },
  {
   "cell_type": "code",
   "execution_count": 17,
   "metadata": {},
   "outputs": [],
   "source": [
    "FMA_features=np.zeros((7997,518))\n",
    "array_index=0\n",
    "for index in ind:\n",
    "    if int(index) in name: #selecting only features of fma_small audios.\n",
    "        FMA_features[array_index]=features.loc[index].values\n",
    "        array_index+=1"
   ]
  },
  {
   "cell_type": "code",
   "execution_count": 20,
   "metadata": {},
   "outputs": [
    {
     "data": {
      "text/plain": [
       "array([ 7.18065262e+00,  5.23030901e+00,  2.49320805e-01,  1.34762013e+00,\n",
       "        1.48247778e+00,  5.31371236e-01,  1.48159301e+00,  2.69145465e+00,\n",
       "        8.66868198e-01,  1.34123063e+00,  1.34779155e+00,  1.23765838e+00,\n",
       "        6.92499936e-01,  5.69344044e-01,  5.97040892e-01,  6.25863731e-01,\n",
       "        5.67329586e-01,  4.43949252e-01,  4.87976283e-01,  4.97327238e-01,\n",
       "        5.74435472e-01,  5.79240680e-01,  6.20102465e-01,  5.86945415e-01,\n",
       "        4.74300265e-01,  3.69815946e-01,  2.36118853e-01,  2.28067890e-01,\n",
       "        2.22829998e-01,  2.21414834e-01,  2.29238048e-01,  2.48795316e-01,\n",
       "        1.96245179e-01,  1.75809205e-01,  2.00712666e-01,  3.19971949e-01,\n",
       "        4.82825249e-01,  3.87652487e-01,  2.49082074e-01,  2.38186926e-01,\n",
       "        2.33066157e-01,  2.30120465e-01,  2.32068285e-01,  2.48895958e-01,\n",
       "        1.97692201e-01,  1.73299640e-01,  1.98839664e-01,  3.14053059e-01,\n",
       "        0.00000000e+00,  0.00000000e+00,  0.00000000e+00,  0.00000000e+00,\n",
       "        0.00000000e+00,  0.00000000e+00,  0.00000000e+00,  0.00000000e+00,\n",
       "        0.00000000e+00,  0.00000000e+00,  0.00000000e+00,  0.00000000e+00,\n",
       "       -1.99590075e+00, -1.81165349e+00, -3.51840734e-01, -4.38165754e-01,\n",
       "       -5.68652034e-01, -4.39195961e-01, -1.50422856e-01, -6.60930753e-01,\n",
       "        1.00541808e-01,  5.65466464e-01,  3.64253759e-01, -4.43213075e-01,\n",
       "        1.06364541e-01,  8.53165090e-02,  9.23496634e-02,  7.72369578e-02,\n",
       "        7.42839798e-02,  7.73221254e-02,  7.72788972e-02,  6.85881749e-02,\n",
       "        7.96060488e-02,  8.54697078e-02,  8.54976326e-02,  9.82187316e-02,\n",
       "        4.51808357e+00,  2.23713920e-01, -1.09868646e+00, -7.81633019e-01,\n",
       "       -9.38432693e-01, -1.13267910e+00, -9.09878194e-01, -4.96935934e-01,\n",
       "       -3.67596716e-01, -2.63383418e-01, -5.37583351e-01,  6.75497353e-01,\n",
       "        1.00000000e+00,  1.00000000e+00,  1.00000000e+00,  1.00000000e+00,\n",
       "        1.00000000e+00,  1.00000000e+00,  1.00000000e+00,  1.00000000e+00,\n",
       "        1.00000000e+00,  1.00000000e+00,  1.00000000e+00,  1.00000000e+00,\n",
       "        8.83210301e-01,  6.68068588e-01,  5.24086952e-01,  4.90959555e-01,\n",
       "        4.93514657e-01,  5.05336881e-01,  5.08059084e-01,  5.07593036e-01,\n",
       "        4.40306455e-01,  4.11463946e-01,  4.50870901e-01,  6.05161667e-01,\n",
       "        1.00000000e+00,  6.77294850e-01,  5.29293180e-01,  4.95927423e-01,\n",
       "        4.97422040e-01,  4.95146096e-01,  5.03018677e-01,  4.96752411e-01,\n",
       "        4.15908128e-01,  3.78414065e-01,  4.29901242e-01,  6.21644378e-01,\n",
       "        0.00000000e+00,  0.00000000e+00,  0.00000000e+00,  0.00000000e+00,\n",
       "        0.00000000e+00,  0.00000000e+00,  0.00000000e+00,  0.00000000e+00,\n",
       "        0.00000000e+00,  0.00000000e+00,  0.00000000e+00,  0.00000000e+00,\n",
       "       -2.23586226e+00, -6.21387482e-01, -2.01533604e-02,  4.59964313e-02,\n",
       "       -2.01416221e-02,  5.60666248e-02,  6.82589114e-02,  1.85622081e-01,\n",
       "        3.84968251e-01,  5.22297263e-01,  3.44329149e-01, -5.23531377e-01,\n",
       "        2.27930546e-01,  2.25447983e-01,  2.65109897e-01,  2.36233488e-01,\n",
       "        2.40282878e-01,  2.66694188e-01,  2.53122061e-01,  2.35398307e-01,\n",
       "        2.24824831e-01,  2.32747957e-01,  2.41133198e-01,  2.04236493e-01,\n",
       "       -1.00604105e+00, -6.34075582e-01, -2.33751625e-01, -1.20916665e-01,\n",
       "        4.80627548e-03,  1.21898234e+00,  9.69102919e-01, -8.84986281e-01,\n",
       "       -4.69189733e-01, -5.15474617e-01, -6.32885277e-01, -9.03777838e-01,\n",
       "        1.00000000e+00,  1.00000000e+00,  1.00000000e+00,  1.00000000e+00,\n",
       "        1.00000000e+00,  1.00000000e+00,  1.00000000e+00,  1.00000000e+00,\n",
       "        1.00000000e+00,  1.00000000e+00,  1.00000000e+00,  1.00000000e+00,\n",
       "        6.96062624e-01,  4.47831988e-01,  3.55579615e-01,  3.49722862e-01,\n",
       "        3.40517879e-01,  2.66161114e-01,  2.91201085e-01,  4.30514038e-01,\n",
       "        3.76956046e-01,  3.80831897e-01,  4.19979095e-01,  5.27399898e-01,\n",
       "        8.13451827e-01,  4.10985589e-01,  2.86802262e-01,  2.83637434e-01,\n",
       "        2.65072346e-01,  1.84796304e-01,  2.26378918e-01,  3.65963459e-01,\n",
       "        3.05792809e-01,  3.11603695e-01,  3.69269371e-01,  5.09396136e-01,\n",
       "        0.00000000e+00,  0.00000000e+00,  0.00000000e+00,  0.00000000e+00,\n",
       "        0.00000000e+00,  0.00000000e+00,  0.00000000e+00,  0.00000000e+00,\n",
       "        0.00000000e+00,  0.00000000e+00,  0.00000000e+00,  0.00000000e+00,\n",
       "       -6.37954295e-01,  4.38492060e-01,  8.34426939e-01,  8.45905185e-01,\n",
       "        9.33699727e-01,  1.33921266e+00,  1.21645093e+00,  5.24963737e-01,\n",
       "        7.18930840e-01,  7.13767529e-01,  5.68743408e-01,  6.51869252e-02,\n",
       "        3.26939046e-01,  2.76545942e-01,  2.77349859e-01,  2.63065368e-01,\n",
       "        2.66791850e-01,  2.40799561e-01,  2.38279939e-01,  3.05774719e-01,\n",
       "        2.79608041e-01,  2.85547584e-01,  2.83178240e-01,  2.80120641e-01,\n",
       "        3.85678911e+00,  1.54190099e+00,  8.16448126e-04,  3.30727518e-01,\n",
       "        1.18730649e-01, -3.42687339e-01, -2.59251744e-01,  1.46734595e-01,\n",
       "        4.10656333e-01, -1.62872016e-01, -2.99202614e-02,  4.30621207e-01,\n",
       "       -2.25080594e-01, -3.03092360e-01, -1.90763757e-01, -5.28709069e-02,\n",
       "       -1.51793674e-01, -5.89966716e-04,  7.54919499e-02,  2.59508193e-03,\n",
       "        2.86577072e+01,  2.15541351e+02,  5.24244232e+01,  1.03289833e+02,\n",
       "        5.45993347e+01,  8.51582184e+01,  3.78430214e+01,  5.81699333e+01,\n",
       "        3.00320663e+01,  3.91294136e+01,  2.77374001e+01,  3.72415848e+01,\n",
       "        3.41460876e+01,  3.35411148e+01,  3.08374977e+01,  2.86131268e+01,\n",
       "        3.26833725e+01,  2.26237106e+01,  2.70383911e+01,  2.14278126e+01,\n",
       "       -1.63772964e+02,  1.16696678e+02, -4.17538261e+01,  2.91443291e+01,\n",
       "       -1.50501575e+01,  1.88793716e+01, -8.91816521e+00,  1.20021181e+01,\n",
       "       -4.25315094e+00,  1.35979116e+00, -2.68299985e+00, -7.94631839e-01,\n",
       "       -6.92097139e+00, -3.65536594e+00,  1.46521306e+00,  2.01078042e-01,\n",
       "        3.99820399e+00, -2.11467648e+00,  1.16841763e-01, -5.78588438e+00,\n",
       "       -1.43594299e+02,  1.24859314e+02, -4.35186310e+01,  2.88867855e+01,\n",
       "       -1.34999094e+01,  1.91816750e+01, -7.83417845e+00,  1.15826607e+01,\n",
       "       -3.64302182e+00,  1.08517659e+00, -2.27211452e+00, -9.52252150e-01,\n",
       "       -6.49098110e+00, -3.20794415e+00,  1.10925853e+00,  2.77171936e-02,\n",
       "        3.85989714e+00, -1.69810390e+00,  1.50990331e-14, -5.58933735e+00,\n",
       "       -5.04891144e+02, -1.42108547e-14, -1.15315613e+02, -5.15690041e+01,\n",
       "       -9.78798904e+01, -4.15246277e+01, -6.17487183e+01, -3.96789856e+01,\n",
       "       -5.42229729e+01, -4.25621262e+01, -4.91951065e+01, -3.55343475e+01,\n",
       "       -3.85079346e+01, -3.34119797e+01, -3.12061634e+01, -3.28906860e+01,\n",
       "       -2.81358490e+01, -3.23109818e+01, -2.79500542e+01, -3.43259163e+01,\n",
       "       -1.74732721e+00, -1.18949521e+00,  3.20707232e-01,  4.32923250e-02,\n",
       "       -2.62969285e-01,  3.17469090e-02, -2.72285432e-01,  7.34922811e-02,\n",
       "       -1.65036082e-01, -1.03560232e-01, -1.55110002e-01,  2.55138367e-01,\n",
       "       -1.02554947e-01,  3.48450914e-02,  1.73702184e-02, -9.61776525e-02,\n",
       "        1.88637804e-02, -1.71891794e-01,  6.79828078e-02, -1.51165903e-01,\n",
       "        9.78090439e+01,  3.85695839e+01,  2.25762730e+01,  2.07679214e+01,\n",
       "        1.98697395e+01,  2.02991638e+01,  1.46314812e+01,  1.21834106e+01,\n",
       "        9.39982700e+00,  1.07423010e+01,  1.00596094e+01,  8.60194206e+00,\n",
       "        9.28425026e+00,  9.24551582e+00,  8.52086258e+00,  8.56047153e+00,\n",
       "        7.65187120e+00,  7.24655533e+00,  7.07718754e+00,  7.39185905e+00,\n",
       "        2.49985600e+00,  1.47480965e+01,  3.18876052e+00,  2.65389514e+00,\n",
       "        0.00000000e+00,  1.56542611e+00,  2.53680944e+00,  3.87438416e+00,\n",
       "        3.45110596e+03,  1.60747437e+03,  1.61885010e+03,  0.00000000e+00,\n",
       "       -8.84317398e-01,  4.36808990e+02,  2.40680814e+00,  5.51404980e+03,\n",
       "        1.63958325e+03,  1.50349670e+03,  0.00000000e+00,  1.07981503e+00,\n",
       "        7.19770508e+02,  2.27082181e+00,  4.47822750e-01,  7.63851404e-01,\n",
       "        7.85707235e-02,  1.02527719e-02,  7.24756622e+00,  3.25510645e+00,\n",
       "        5.08257141e+01,  4.13894463e+01,  3.93336029e+01,  3.15134926e+01,\n",
       "        3.33530388e+01,  4.72659035e+01,  5.46872597e+01,  1.80051746e+01,\n",
       "        1.53631382e+01,  1.71290131e+01,  1.71571598e+01,  1.80870457e+01,\n",
       "        1.76161118e+01,  3.82686462e+01,  1.75805798e+01,  1.50312443e+01,\n",
       "        1.68440533e+01,  1.69856529e+01,  1.78166847e+01,  1.72551517e+01,\n",
       "        3.98303452e+01,  2.67315316e+00,  2.29682589e+00,  3.39423156e+00,\n",
       "        3.75088143e+00,  5.48416090e+00,  9.66293144e+00,  1.04493198e+01,\n",
       "        8.91873181e-01,  4.93981570e-01,  6.08305514e-01,  3.67692828e-01,\n",
       "        4.32849854e-01,  1.69080544e+00, -1.57189989e+00,  4.54155684e+00,\n",
       "        4.32175589e+00,  3.93623424e+00,  3.14453745e+00,  3.31008744e+00,\n",
       "        3.09659743e+00,  7.62264061e+00,  8.40539992e-01,  9.41000977e+03,\n",
       "        3.26780469e+03,  3.14384766e+03,  0.00000000e+00,  3.47371757e-01,\n",
       "        1.30072974e+03,  2.30330133e+00,  9.78717804e-01,  1.03303754e+00,\n",
       "        1.66836321e+00,  8.29119265e-01,  8.46413612e+00,  1.03561729e-01,\n",
       "        1.60202339e-01,  2.09170371e-01,  3.18971843e-01,  5.96899502e-02,\n",
       "        6.91839457e-02, -2.57011945e-03,  1.92960631e-02,  1.05097964e-02,\n",
       "        7.34644011e-02,  9.27240122e-03,  1.57648195e-02, -3.78935039e-03,\n",
       "        1.77860353e-02,  7.31119979e-03,  6.79445416e-02,  9.48805921e-03,\n",
       "        1.68761127e-02, -5.97690754e-02, -9.17452350e-02, -1.85686529e-01,\n",
       "       -1.40306294e-01, -4.85247038e-02, -8.92857164e-02,  7.52461910e-01,\n",
       "        2.62607306e-01,  2.00944155e-01,  5.93594730e-01, -1.77664563e-01,\n",
       "       -1.42420125e+00,  1.98094174e-02,  2.95686834e-02,  3.89742106e-02,\n",
       "        5.41251563e-02,  1.22257499e-02,  1.21105919e-02,  5.75889015e+00,\n",
       "        4.59472656e-01,  8.56294483e-02,  7.12890625e-02,  0.00000000e+00,\n",
       "        2.08987212e+00,  6.14481084e-02])"
      ]
     },
     "execution_count": 20,
     "metadata": {},
     "output_type": "execute_result"
    }
   ],
   "source": [
    "FMA_features[0]"
   ]
  },
  {
   "cell_type": "code",
   "execution_count": 21,
   "metadata": {},
   "outputs": [],
   "source": [
    "np.save('FMA_features',FMA_features)"
   ]
  },
  {
   "cell_type": "markdown",
   "metadata": {},
   "source": [
    "## Genre:"
   ]
  },
  {
   "cell_type": "code",
   "execution_count": 23,
   "metadata": {},
   "outputs": [
    {
     "data": {
      "text/html": [
       "<div>\n",
       "<style scoped>\n",
       "    .dataframe tbody tr th:only-of-type {\n",
       "        vertical-align: middle;\n",
       "    }\n",
       "\n",
       "    .dataframe tbody tr th {\n",
       "        vertical-align: top;\n",
       "    }\n",
       "\n",
       "    .dataframe thead tr th {\n",
       "        text-align: left;\n",
       "    }\n",
       "\n",
       "    .dataframe thead tr:last-of-type th {\n",
       "        text-align: right;\n",
       "    }\n",
       "</style>\n",
       "<table border=\"1\" class=\"dataframe\">\n",
       "  <thead>\n",
       "    <tr>\n",
       "      <th></th>\n",
       "      <th colspan=\"10\" halign=\"left\">album</th>\n",
       "      <th>...</th>\n",
       "      <th colspan=\"10\" halign=\"left\">track</th>\n",
       "    </tr>\n",
       "    <tr>\n",
       "      <th></th>\n",
       "      <th>comments</th>\n",
       "      <th>date_created</th>\n",
       "      <th>date_released</th>\n",
       "      <th>engineer</th>\n",
       "      <th>favorites</th>\n",
       "      <th>id</th>\n",
       "      <th>information</th>\n",
       "      <th>listens</th>\n",
       "      <th>producer</th>\n",
       "      <th>tags</th>\n",
       "      <th>...</th>\n",
       "      <th>information</th>\n",
       "      <th>interest</th>\n",
       "      <th>language_code</th>\n",
       "      <th>license</th>\n",
       "      <th>listens</th>\n",
       "      <th>lyricist</th>\n",
       "      <th>number</th>\n",
       "      <th>publisher</th>\n",
       "      <th>tags</th>\n",
       "      <th>title</th>\n",
       "    </tr>\n",
       "    <tr>\n",
       "      <th>track_id</th>\n",
       "      <th></th>\n",
       "      <th></th>\n",
       "      <th></th>\n",
       "      <th></th>\n",
       "      <th></th>\n",
       "      <th></th>\n",
       "      <th></th>\n",
       "      <th></th>\n",
       "      <th></th>\n",
       "      <th></th>\n",
       "      <th></th>\n",
       "      <th></th>\n",
       "      <th></th>\n",
       "      <th></th>\n",
       "      <th></th>\n",
       "      <th></th>\n",
       "      <th></th>\n",
       "      <th></th>\n",
       "      <th></th>\n",
       "      <th></th>\n",
       "      <th></th>\n",
       "    </tr>\n",
       "  </thead>\n",
       "  <tbody>\n",
       "    <tr>\n",
       "      <th>2</th>\n",
       "      <td>0</td>\n",
       "      <td>2008-11-26 01:44:45</td>\n",
       "      <td>2009-01-05 00:00:00</td>\n",
       "      <td>NaN</td>\n",
       "      <td>4</td>\n",
       "      <td>1</td>\n",
       "      <td>&lt;p&gt;&lt;/p&gt;</td>\n",
       "      <td>6073</td>\n",
       "      <td>NaN</td>\n",
       "      <td>[]</td>\n",
       "      <td>...</td>\n",
       "      <td>NaN</td>\n",
       "      <td>4656</td>\n",
       "      <td>en</td>\n",
       "      <td>Attribution-NonCommercial-ShareAlike 3.0 Inter...</td>\n",
       "      <td>1293</td>\n",
       "      <td>NaN</td>\n",
       "      <td>3</td>\n",
       "      <td>NaN</td>\n",
       "      <td>[]</td>\n",
       "      <td>Food</td>\n",
       "    </tr>\n",
       "    <tr>\n",
       "      <th>3</th>\n",
       "      <td>0</td>\n",
       "      <td>2008-11-26 01:44:45</td>\n",
       "      <td>2009-01-05 00:00:00</td>\n",
       "      <td>NaN</td>\n",
       "      <td>4</td>\n",
       "      <td>1</td>\n",
       "      <td>&lt;p&gt;&lt;/p&gt;</td>\n",
       "      <td>6073</td>\n",
       "      <td>NaN</td>\n",
       "      <td>[]</td>\n",
       "      <td>...</td>\n",
       "      <td>NaN</td>\n",
       "      <td>1470</td>\n",
       "      <td>en</td>\n",
       "      <td>Attribution-NonCommercial-ShareAlike 3.0 Inter...</td>\n",
       "      <td>514</td>\n",
       "      <td>NaN</td>\n",
       "      <td>4</td>\n",
       "      <td>NaN</td>\n",
       "      <td>[]</td>\n",
       "      <td>Electric Ave</td>\n",
       "    </tr>\n",
       "    <tr>\n",
       "      <th>5</th>\n",
       "      <td>0</td>\n",
       "      <td>2008-11-26 01:44:45</td>\n",
       "      <td>2009-01-05 00:00:00</td>\n",
       "      <td>NaN</td>\n",
       "      <td>4</td>\n",
       "      <td>1</td>\n",
       "      <td>&lt;p&gt;&lt;/p&gt;</td>\n",
       "      <td>6073</td>\n",
       "      <td>NaN</td>\n",
       "      <td>[]</td>\n",
       "      <td>...</td>\n",
       "      <td>NaN</td>\n",
       "      <td>1933</td>\n",
       "      <td>en</td>\n",
       "      <td>Attribution-NonCommercial-ShareAlike 3.0 Inter...</td>\n",
       "      <td>1151</td>\n",
       "      <td>NaN</td>\n",
       "      <td>6</td>\n",
       "      <td>NaN</td>\n",
       "      <td>[]</td>\n",
       "      <td>This World</td>\n",
       "    </tr>\n",
       "    <tr>\n",
       "      <th>10</th>\n",
       "      <td>0</td>\n",
       "      <td>2008-11-26 01:45:08</td>\n",
       "      <td>2008-02-06 00:00:00</td>\n",
       "      <td>NaN</td>\n",
       "      <td>4</td>\n",
       "      <td>6</td>\n",
       "      <td>NaN</td>\n",
       "      <td>47632</td>\n",
       "      <td>NaN</td>\n",
       "      <td>[]</td>\n",
       "      <td>...</td>\n",
       "      <td>NaN</td>\n",
       "      <td>54881</td>\n",
       "      <td>en</td>\n",
       "      <td>Attribution-NonCommercial-NoDerivatives (aka M...</td>\n",
       "      <td>50135</td>\n",
       "      <td>NaN</td>\n",
       "      <td>1</td>\n",
       "      <td>NaN</td>\n",
       "      <td>[]</td>\n",
       "      <td>Freeway</td>\n",
       "    </tr>\n",
       "    <tr>\n",
       "      <th>20</th>\n",
       "      <td>0</td>\n",
       "      <td>2008-11-26 01:45:05</td>\n",
       "      <td>2009-01-06 00:00:00</td>\n",
       "      <td>NaN</td>\n",
       "      <td>2</td>\n",
       "      <td>4</td>\n",
       "      <td>&lt;p&gt; \"spiritual songs\" from Nicky Cook&lt;/p&gt;</td>\n",
       "      <td>2710</td>\n",
       "      <td>NaN</td>\n",
       "      <td>[]</td>\n",
       "      <td>...</td>\n",
       "      <td>NaN</td>\n",
       "      <td>978</td>\n",
       "      <td>en</td>\n",
       "      <td>Attribution-NonCommercial-NoDerivatives (aka M...</td>\n",
       "      <td>361</td>\n",
       "      <td>NaN</td>\n",
       "      <td>3</td>\n",
       "      <td>NaN</td>\n",
       "      <td>[]</td>\n",
       "      <td>Spiritual Level</td>\n",
       "    </tr>\n",
       "  </tbody>\n",
       "</table>\n",
       "<p>5 rows × 52 columns</p>\n",
       "</div>"
      ],
      "text/plain": [
       "            album                                                     \\\n",
       "         comments         date_created        date_released engineer   \n",
       "track_id                                                               \n",
       "2               0  2008-11-26 01:44:45  2009-01-05 00:00:00      NaN   \n",
       "3               0  2008-11-26 01:44:45  2009-01-05 00:00:00      NaN   \n",
       "5               0  2008-11-26 01:44:45  2009-01-05 00:00:00      NaN   \n",
       "10              0  2008-11-26 01:45:08  2008-02-06 00:00:00      NaN   \n",
       "20              0  2008-11-26 01:45:05  2009-01-06 00:00:00      NaN   \n",
       "\n",
       "                                                                          \\\n",
       "         favorites id                                information listens   \n",
       "track_id                                                                   \n",
       "2                4  1                                    <p></p>    6073   \n",
       "3                4  1                                    <p></p>    6073   \n",
       "5                4  1                                    <p></p>    6073   \n",
       "10               4  6                                        NaN   47632   \n",
       "20               2  4  <p> \"spiritual songs\" from Nicky Cook</p>    2710   \n",
       "\n",
       "                        ...       track                         \\\n",
       "         producer tags  ... information interest language_code   \n",
       "track_id                ...                                      \n",
       "2             NaN   []  ...         NaN     4656            en   \n",
       "3             NaN   []  ...         NaN     1470            en   \n",
       "5             NaN   []  ...         NaN     1933            en   \n",
       "10            NaN   []  ...         NaN    54881            en   \n",
       "20            NaN   []  ...         NaN      978            en   \n",
       "\n",
       "                                                                              \\\n",
       "                                                    license listens lyricist   \n",
       "track_id                                                                       \n",
       "2         Attribution-NonCommercial-ShareAlike 3.0 Inter...    1293      NaN   \n",
       "3         Attribution-NonCommercial-ShareAlike 3.0 Inter...     514      NaN   \n",
       "5         Attribution-NonCommercial-ShareAlike 3.0 Inter...    1151      NaN   \n",
       "10        Attribution-NonCommercial-NoDerivatives (aka M...   50135      NaN   \n",
       "20        Attribution-NonCommercial-NoDerivatives (aka M...     361      NaN   \n",
       "\n",
       "                                                 \n",
       "         number publisher tags            title  \n",
       "track_id                                         \n",
       "2             3       NaN   []             Food  \n",
       "3             4       NaN   []     Electric Ave  \n",
       "5             6       NaN   []       This World  \n",
       "10            1       NaN   []          Freeway  \n",
       "20            3       NaN   []  Spiritual Level  \n",
       "\n",
       "[5 rows x 52 columns]"
      ]
     },
     "execution_count": 23,
     "metadata": {},
     "output_type": "execute_result"
    }
   ],
   "source": [
    "import pandas as pd\n",
    "filepath = 'tracks.csv'\n",
    "tracks = pd.read_csv(filepath, index_col=0, header=[0, 1])\n",
    "tracks.head()"
   ]
  },
  {
   "cell_type": "code",
   "execution_count": 24,
   "metadata": {},
   "outputs": [
    {
     "data": {
      "text/html": [
       "<div>\n",
       "<style scoped>\n",
       "    .dataframe tbody tr th:only-of-type {\n",
       "        vertical-align: middle;\n",
       "    }\n",
       "\n",
       "    .dataframe tbody tr th {\n",
       "        vertical-align: top;\n",
       "    }\n",
       "\n",
       "    .dataframe thead tr th {\n",
       "        text-align: left;\n",
       "    }\n",
       "\n",
       "    .dataframe thead tr:last-of-type th {\n",
       "        text-align: right;\n",
       "    }\n",
       "</style>\n",
       "<table border=\"1\" class=\"dataframe\">\n",
       "  <thead>\n",
       "    <tr>\n",
       "      <th></th>\n",
       "      <th colspan=\"2\" halign=\"left\">set</th>\n",
       "      <th colspan=\"2\" halign=\"left\">track</th>\n",
       "    </tr>\n",
       "    <tr>\n",
       "      <th></th>\n",
       "      <th>split</th>\n",
       "      <th>subset</th>\n",
       "      <th>genre_top</th>\n",
       "      <th>genres</th>\n",
       "    </tr>\n",
       "    <tr>\n",
       "      <th>track_id</th>\n",
       "      <th></th>\n",
       "      <th></th>\n",
       "      <th></th>\n",
       "      <th></th>\n",
       "    </tr>\n",
       "  </thead>\n",
       "  <tbody>\n",
       "    <tr>\n",
       "      <th>2</th>\n",
       "      <td>training</td>\n",
       "      <td>small</td>\n",
       "      <td>Hip-Hop</td>\n",
       "      <td>[21]</td>\n",
       "    </tr>\n",
       "    <tr>\n",
       "      <th>5</th>\n",
       "      <td>training</td>\n",
       "      <td>small</td>\n",
       "      <td>Hip-Hop</td>\n",
       "      <td>[21]</td>\n",
       "    </tr>\n",
       "    <tr>\n",
       "      <th>10</th>\n",
       "      <td>training</td>\n",
       "      <td>small</td>\n",
       "      <td>Pop</td>\n",
       "      <td>[10]</td>\n",
       "    </tr>\n",
       "    <tr>\n",
       "      <th>140</th>\n",
       "      <td>training</td>\n",
       "      <td>small</td>\n",
       "      <td>Folk</td>\n",
       "      <td>[17]</td>\n",
       "    </tr>\n",
       "    <tr>\n",
       "      <th>141</th>\n",
       "      <td>training</td>\n",
       "      <td>small</td>\n",
       "      <td>Folk</td>\n",
       "      <td>[17]</td>\n",
       "    </tr>\n",
       "  </tbody>\n",
       "</table>\n",
       "</div>"
      ],
      "text/plain": [
       "               set            track       \n",
       "             split subset genre_top genres\n",
       "track_id                                  \n",
       "2         training  small   Hip-Hop   [21]\n",
       "5         training  small   Hip-Hop   [21]\n",
       "10        training  small       Pop   [10]\n",
       "140       training  small      Folk   [17]\n",
       "141       training  small      Folk   [17]"
      ]
     },
     "execution_count": 24,
     "metadata": {},
     "output_type": "execute_result"
    }
   ],
   "source": [
    "#https://github.com/priya-dwivedi/Music_Genre_Classification/blob/master/load_fma_dataset.ipynb\n",
    "keep_cols = [('set', 'split'),\n",
    "('set', 'subset'),('track', 'genre_top'), ('track', 'genres')]\n",
    "\n",
    "df_all = tracks[keep_cols]\n",
    "df_all = df_all[df_all[('set', 'subset')] == 'small']\n",
    "df_all.head()"
   ]
  },
  {
   "cell_type": "code",
   "execution_count": 25,
   "metadata": {},
   "outputs": [],
   "source": [
    "df_all=df_all[('track','genre_top')]"
   ]
  },
  {
   "cell_type": "code",
   "execution_count": 26,
   "metadata": {},
   "outputs": [
    {
     "data": {
      "text/plain": [
       "track_id\n",
       "2      Hip-Hop\n",
       "5      Hip-Hop\n",
       "10         Pop\n",
       "140       Folk\n",
       "141       Folk\n",
       "Name: (track, genre_top), dtype: object"
      ]
     },
     "execution_count": 26,
     "metadata": {},
     "output_type": "execute_result"
    }
   ],
   "source": [
    "df_all.head()"
   ]
  },
  {
   "cell_type": "code",
   "execution_count": 27,
   "metadata": {},
   "outputs": [],
   "source": [
    "#remove unreadable songs' genre from dataframe\n",
    "df_all=df_all.drop(108925,axis=0)\n",
    "df_all=df_all.drop(133297,axis=0)\n",
    "df_all=df_all.drop(99134,axis=0)"
   ]
  },
  {
   "cell_type": "code",
   "execution_count": 30,
   "metadata": {},
   "outputs": [],
   "source": [
    "label=df_all.values"
   ]
  },
  {
   "cell_type": "code",
   "execution_count": 32,
   "metadata": {},
   "outputs": [
    {
     "data": {
      "text/plain": [
       "array(['Hip-Hop', 'Hip-Hop', 'Pop', 'Folk', 'Folk'], dtype=object)"
      ]
     },
     "execution_count": 32,
     "metadata": {},
     "output_type": "execute_result"
    }
   ],
   "source": [
    "label[0:5]"
   ]
  },
  {
   "cell_type": "code",
   "execution_count": 33,
   "metadata": {},
   "outputs": [],
   "source": [
    "np.save('label',label)"
   ]
  },
  {
   "cell_type": "code",
   "execution_count": 23,
   "metadata": {},
   "outputs": [],
   "source": [
    "label=np.load('label.npy',allow_pickle=True) \n",
    "#label is saved as dtype=object(and not str) hence allow_pickle is set to true is required."
   ]
  },
  {
   "cell_type": "code",
   "execution_count": 35,
   "metadata": {},
   "outputs": [
    {
     "data": {
      "text/plain": [
       "Counter({'Hip-Hop': 1000,\n",
       "         'Pop': 1000,\n",
       "         'Folk': 1000,\n",
       "         'Experimental': 999,\n",
       "         'Rock': 999,\n",
       "         'International': 1000,\n",
       "         'Electronic': 999,\n",
       "         'Instrumental': 1000})"
      ]
     },
     "execution_count": 35,
     "metadata": {},
     "output_type": "execute_result"
    }
   ],
   "source": [
    "from collections import Counter\n",
    "Counter(label)"
   ]
  },
  {
   "cell_type": "code",
   "execution_count": 36,
   "metadata": {},
   "outputs": [
    {
     "data": {
      "text/plain": [
       "dict_keys(['Hip-Hop', 'Pop', 'Folk', 'Experimental', 'Rock', 'International', 'Electronic', 'Instrumental'])"
      ]
     },
     "execution_count": 36,
     "metadata": {},
     "output_type": "execute_result"
    }
   ],
   "source": [
    "Counter(label).keys()"
   ]
  },
  {
   "cell_type": "code",
   "execution_count": 41,
   "metadata": {
    "scrolled": true
   },
   "outputs": [
    {
     "data": {
      "image/png": "[encoded data removed]",
      "text/plain": [
       "<Figure size 432x288 with 1 Axes>"
      ]
     },
     "metadata": {
      "needs_background": "light"
     },
     "output_type": "display_data"
    }
   ],
   "source": [
    "%matplotlib inline\n",
    "import matplotlib.pyplot as plt\n",
    "fig = plt.figure()\n",
    "ax = fig.add_axes([0,0,1,1])\n",
    "Genre = ['Hip-Hop', 'Pop', 'Folk', 'Experimental', 'Rock', 'International', 'Electro', 'Instrument']\n",
    "count = Counter(label).values()\n",
    "ax.bar(Genre,count)\n",
    "plt.show()"
   ]
  },
  {
   "cell_type": "markdown",
   "metadata": {},
   "source": [
    "### Observation:\n",
    "Balanced genres"
   ]
  },
  {
   "cell_type": "markdown",
   "metadata": {},
   "source": [
    "## Metadata:"
   ]
  },
  {
   "cell_type": "code",
   "execution_count": 5,
   "metadata": {},
   "outputs": [],
   "source": [
    "tracks=pd.read_csv('tracks.csv',index_col=0, header=[0, 1])"
   ]
  },
  {
   "cell_type": "code",
   "execution_count": 6,
   "metadata": {},
   "outputs": [
    {
     "data": {
      "text/html": [
       "<div>\n",
       "<style scoped>\n",
       "    .dataframe tbody tr th:only-of-type {\n",
       "        vertical-align: middle;\n",
       "    }\n",
       "\n",
       "    .dataframe tbody tr th {\n",
       "        vertical-align: top;\n",
       "    }\n",
       "\n",
       "    .dataframe thead tr th {\n",
       "        text-align: left;\n",
       "    }\n",
       "\n",
       "    .dataframe thead tr:last-of-type th {\n",
       "        text-align: right;\n",
       "    }\n",
       "</style>\n",
       "<table border=\"1\" class=\"dataframe\">\n",
       "  <thead>\n",
       "    <tr>\n",
       "      <th></th>\n",
       "      <th colspan=\"10\" halign=\"left\">album</th>\n",
       "      <th>...</th>\n",
       "      <th colspan=\"10\" halign=\"left\">track</th>\n",
       "    </tr>\n",
       "    <tr>\n",
       "      <th></th>\n",
       "      <th>comments</th>\n",
       "      <th>date_created</th>\n",
       "      <th>date_released</th>\n",
       "      <th>engineer</th>\n",
       "      <th>favorites</th>\n",
       "      <th>id</th>\n",
       "      <th>information</th>\n",
       "      <th>listens</th>\n",
       "      <th>producer</th>\n",
       "      <th>tags</th>\n",
       "      <th>...</th>\n",
       "      <th>information</th>\n",
       "      <th>interest</th>\n",
       "      <th>language_code</th>\n",
       "      <th>license</th>\n",
       "      <th>listens</th>\n",
       "      <th>lyricist</th>\n",
       "      <th>number</th>\n",
       "      <th>publisher</th>\n",
       "      <th>tags</th>\n",
       "      <th>title</th>\n",
       "    </tr>\n",
       "    <tr>\n",
       "      <th>track_id</th>\n",
       "      <th></th>\n",
       "      <th></th>\n",
       "      <th></th>\n",
       "      <th></th>\n",
       "      <th></th>\n",
       "      <th></th>\n",
       "      <th></th>\n",
       "      <th></th>\n",
       "      <th></th>\n",
       "      <th></th>\n",
       "      <th></th>\n",
       "      <th></th>\n",
       "      <th></th>\n",
       "      <th></th>\n",
       "      <th></th>\n",
       "      <th></th>\n",
       "      <th></th>\n",
       "      <th></th>\n",
       "      <th></th>\n",
       "      <th></th>\n",
       "      <th></th>\n",
       "    </tr>\n",
       "  </thead>\n",
       "  <tbody>\n",
       "    <tr>\n",
       "      <th>2</th>\n",
       "      <td>0</td>\n",
       "      <td>2008-11-26 01:44:45</td>\n",
       "      <td>2009-01-05 00:00:00</td>\n",
       "      <td>NaN</td>\n",
       "      <td>4</td>\n",
       "      <td>1</td>\n",
       "      <td>&lt;p&gt;&lt;/p&gt;</td>\n",
       "      <td>6073</td>\n",
       "      <td>NaN</td>\n",
       "      <td>[]</td>\n",
       "      <td>...</td>\n",
       "      <td>NaN</td>\n",
       "      <td>4656</td>\n",
       "      <td>en</td>\n",
       "      <td>Attribution-NonCommercial-ShareAlike 3.0 Inter...</td>\n",
       "      <td>1293</td>\n",
       "      <td>NaN</td>\n",
       "      <td>3</td>\n",
       "      <td>NaN</td>\n",
       "      <td>[]</td>\n",
       "      <td>Food</td>\n",
       "    </tr>\n",
       "    <tr>\n",
       "      <th>3</th>\n",
       "      <td>0</td>\n",
       "      <td>2008-11-26 01:44:45</td>\n",
       "      <td>2009-01-05 00:00:00</td>\n",
       "      <td>NaN</td>\n",
       "      <td>4</td>\n",
       "      <td>1</td>\n",
       "      <td>&lt;p&gt;&lt;/p&gt;</td>\n",
       "      <td>6073</td>\n",
       "      <td>NaN</td>\n",
       "      <td>[]</td>\n",
       "      <td>...</td>\n",
       "      <td>NaN</td>\n",
       "      <td>1470</td>\n",
       "      <td>en</td>\n",
       "      <td>Attribution-NonCommercial-ShareAlike 3.0 Inter...</td>\n",
       "      <td>514</td>\n",
       "      <td>NaN</td>\n",
       "      <td>4</td>\n",
       "      <td>NaN</td>\n",
       "      <td>[]</td>\n",
       "      <td>Electric Ave</td>\n",
       "    </tr>\n",
       "    <tr>\n",
       "      <th>5</th>\n",
       "      <td>0</td>\n",
       "      <td>2008-11-26 01:44:45</td>\n",
       "      <td>2009-01-05 00:00:00</td>\n",
       "      <td>NaN</td>\n",
       "      <td>4</td>\n",
       "      <td>1</td>\n",
       "      <td>&lt;p&gt;&lt;/p&gt;</td>\n",
       "      <td>6073</td>\n",
       "      <td>NaN</td>\n",
       "      <td>[]</td>\n",
       "      <td>...</td>\n",
       "      <td>NaN</td>\n",
       "      <td>1933</td>\n",
       "      <td>en</td>\n",
       "      <td>Attribution-NonCommercial-ShareAlike 3.0 Inter...</td>\n",
       "      <td>1151</td>\n",
       "      <td>NaN</td>\n",
       "      <td>6</td>\n",
       "      <td>NaN</td>\n",
       "      <td>[]</td>\n",
       "      <td>This World</td>\n",
       "    </tr>\n",
       "    <tr>\n",
       "      <th>10</th>\n",
       "      <td>0</td>\n",
       "      <td>2008-11-26 01:45:08</td>\n",
       "      <td>2008-02-06 00:00:00</td>\n",
       "      <td>NaN</td>\n",
       "      <td>4</td>\n",
       "      <td>6</td>\n",
       "      <td>NaN</td>\n",
       "      <td>47632</td>\n",
       "      <td>NaN</td>\n",
       "      <td>[]</td>\n",
       "      <td>...</td>\n",
       "      <td>NaN</td>\n",
       "      <td>54881</td>\n",
       "      <td>en</td>\n",
       "      <td>Attribution-NonCommercial-NoDerivatives (aka M...</td>\n",
       "      <td>50135</td>\n",
       "      <td>NaN</td>\n",
       "      <td>1</td>\n",
       "      <td>NaN</td>\n",
       "      <td>[]</td>\n",
       "      <td>Freeway</td>\n",
       "    </tr>\n",
       "    <tr>\n",
       "      <th>20</th>\n",
       "      <td>0</td>\n",
       "      <td>2008-11-26 01:45:05</td>\n",
       "      <td>2009-01-06 00:00:00</td>\n",
       "      <td>NaN</td>\n",
       "      <td>2</td>\n",
       "      <td>4</td>\n",
       "      <td>&lt;p&gt; \"spiritual songs\" from Nicky Cook&lt;/p&gt;</td>\n",
       "      <td>2710</td>\n",
       "      <td>NaN</td>\n",
       "      <td>[]</td>\n",
       "      <td>...</td>\n",
       "      <td>NaN</td>\n",
       "      <td>978</td>\n",
       "      <td>en</td>\n",
       "      <td>Attribution-NonCommercial-NoDerivatives (aka M...</td>\n",
       "      <td>361</td>\n",
       "      <td>NaN</td>\n",
       "      <td>3</td>\n",
       "      <td>NaN</td>\n",
       "      <td>[]</td>\n",
       "      <td>Spiritual Level</td>\n",
       "    </tr>\n",
       "  </tbody>\n",
       "</table>\n",
       "<p>5 rows × 52 columns</p>\n",
       "</div>"
      ],
      "text/plain": [
       "            album                                                     \\\n",
       "         comments         date_created        date_released engineer   \n",
       "track_id                                                               \n",
       "2               0  2008-11-26 01:44:45  2009-01-05 00:00:00      NaN   \n",
       "3               0  2008-11-26 01:44:45  2009-01-05 00:00:00      NaN   \n",
       "5               0  2008-11-26 01:44:45  2009-01-05 00:00:00      NaN   \n",
       "10              0  2008-11-26 01:45:08  2008-02-06 00:00:00      NaN   \n",
       "20              0  2008-11-26 01:45:05  2009-01-06 00:00:00      NaN   \n",
       "\n",
       "                                                                          \\\n",
       "         favorites id                                information listens   \n",
       "track_id                                                                   \n",
       "2                4  1                                    <p></p>    6073   \n",
       "3                4  1                                    <p></p>    6073   \n",
       "5                4  1                                    <p></p>    6073   \n",
       "10               4  6                                        NaN   47632   \n",
       "20               2  4  <p> \"spiritual songs\" from Nicky Cook</p>    2710   \n",
       "\n",
       "                        ...       track                         \\\n",
       "         producer tags  ... information interest language_code   \n",
       "track_id                ...                                      \n",
       "2             NaN   []  ...         NaN     4656            en   \n",
       "3             NaN   []  ...         NaN     1470            en   \n",
       "5             NaN   []  ...         NaN     1933            en   \n",
       "10            NaN   []  ...         NaN    54881            en   \n",
       "20            NaN   []  ...         NaN      978            en   \n",
       "\n",
       "                                                                              \\\n",
       "                                                    license listens lyricist   \n",
       "track_id                                                                       \n",
       "2         Attribution-NonCommercial-ShareAlike 3.0 Inter...    1293      NaN   \n",
       "3         Attribution-NonCommercial-ShareAlike 3.0 Inter...     514      NaN   \n",
       "5         Attribution-NonCommercial-ShareAlike 3.0 Inter...    1151      NaN   \n",
       "10        Attribution-NonCommercial-NoDerivatives (aka M...   50135      NaN   \n",
       "20        Attribution-NonCommercial-NoDerivatives (aka M...     361      NaN   \n",
       "\n",
       "                                                 \n",
       "         number publisher tags            title  \n",
       "track_id                                         \n",
       "2             3       NaN   []             Food  \n",
       "3             4       NaN   []     Electric Ave  \n",
       "5             6       NaN   []       This World  \n",
       "10            1       NaN   []          Freeway  \n",
       "20            3       NaN   []  Spiritual Level  \n",
       "\n",
       "[5 rows x 52 columns]"
      ]
     },
     "execution_count": 6,
     "metadata": {},
     "output_type": "execute_result"
    }
   ],
   "source": [
    "tracks.head()"
   ]
  },
  {
   "cell_type": "code",
   "execution_count": 7,
   "metadata": {},
   "outputs": [
    {
     "data": {
      "text/plain": [
       "MultiIndex([( 'album',          'comments'),\n",
       "            ( 'album',      'date_created'),\n",
       "            ( 'album',     'date_released'),\n",
       "            ( 'album',          'engineer'),\n",
       "            ( 'album',         'favorites'),\n",
       "            ( 'album',                'id'),\n",
       "            ( 'album',       'information'),\n",
       "            ( 'album',           'listens'),\n",
       "            ( 'album',          'producer'),\n",
       "            ( 'album',              'tags'),\n",
       "            ( 'album',             'title'),\n",
       "            ( 'album',            'tracks'),\n",
       "            ( 'album',              'type'),\n",
       "            ('artist', 'active_year_begin'),\n",
       "            ('artist',   'active_year_end'),\n",
       "            ('artist', 'associated_labels'),\n",
       "            ('artist',               'bio'),\n",
       "            ('artist',          'comments'),\n",
       "            ('artist',      'date_created'),\n",
       "            ('artist',         'favorites'),\n",
       "            ('artist',                'id'),\n",
       "            ('artist',          'latitude'),\n",
       "            ('artist',          'location'),\n",
       "            ('artist',         'longitude'),\n",
       "            ('artist',           'members'),\n",
       "            ('artist',              'name'),\n",
       "            ('artist',  'related_projects'),\n",
       "            ('artist',              'tags'),\n",
       "            ('artist',           'website'),\n",
       "            ('artist',    'wikipedia_page'),\n",
       "            (   'set',             'split'),\n",
       "            (   'set',            'subset'),\n",
       "            ( 'track',          'bit_rate'),\n",
       "            ( 'track',          'comments'),\n",
       "            ( 'track',          'composer'),\n",
       "            ( 'track',      'date_created'),\n",
       "            ( 'track',     'date_recorded'),\n",
       "            ( 'track',          'duration'),\n",
       "            ( 'track',         'favorites'),\n",
       "            ( 'track',         'genre_top'),\n",
       "            ( 'track',            'genres'),\n",
       "            ( 'track',        'genres_all'),\n",
       "            ( 'track',       'information'),\n",
       "            ( 'track',          'interest'),\n",
       "            ( 'track',     'language_code'),\n",
       "            ( 'track',           'license'),\n",
       "            ( 'track',           'listens'),\n",
       "            ( 'track',          'lyricist'),\n",
       "            ( 'track',            'number'),\n",
       "            ( 'track',         'publisher'),\n",
       "            ( 'track',              'tags'),\n",
       "            ( 'track',             'title')],\n",
       "           )"
      ]
     },
     "execution_count": 7,
     "metadata": {},
     "output_type": "execute_result"
    }
   ],
   "source": [
    "tracks.columns"
   ]
  },
  {
   "cell_type": "code",
   "execution_count": 8,
   "metadata": {},
   "outputs": [],
   "source": [
    "tracks=tracks[tracks[( 'set','subset')]=='small'] #selecting metadata of fma_small audios"
   ]
  },
  {
   "cell_type": "code",
   "execution_count": 9,
   "metadata": {},
   "outputs": [],
   "source": [
    "#selecting only relevant columns\n",
    "tracks=tracks[[( 'album',     'date_released'),\n",
    "            ('artist', 'active_year_begin'),\n",
    "            ('artist',   'active_year_end'),\n",
    "            ('artist',         'favorites'),\n",
    "            ('artist',                'id'),\n",
    "            ('artist',          'latitude'),\n",
    "            ('artist',         'longitude'),\n",
    "            ( 'track',          'duration'),\n",
    "            ( 'track',         'favorites'),\n",
    "            ( 'track',         'genre_top'),\n",
    "            ( 'track',            'genres'),\n",
    "            ( 'track',        'genres_all'),\n",
    "            ( 'track',     'language_code'),\n",
    "            ( 'track',           'listens'),\n",
    "            ( 'track',             'title')]]"
   ]
  },
  {
   "cell_type": "code",
   "execution_count": 10,
   "metadata": {},
   "outputs": [
    {
     "data": {
      "text/html": [
       "<div>\n",
       "<style scoped>\n",
       "    .dataframe tbody tr th:only-of-type {\n",
       "        vertical-align: middle;\n",
       "    }\n",
       "\n",
       "    .dataframe tbody tr th {\n",
       "        vertical-align: top;\n",
       "    }\n",
       "\n",
       "    .dataframe thead tr th {\n",
       "        text-align: left;\n",
       "    }\n",
       "\n",
       "    .dataframe thead tr:last-of-type th {\n",
       "        text-align: right;\n",
       "    }\n",
       "</style>\n",
       "<table border=\"1\" class=\"dataframe\">\n",
       "  <thead>\n",
       "    <tr>\n",
       "      <th></th>\n",
       "      <th>album</th>\n",
       "      <th colspan=\"6\" halign=\"left\">artist</th>\n",
       "      <th colspan=\"8\" halign=\"left\">track</th>\n",
       "    </tr>\n",
       "    <tr>\n",
       "      <th></th>\n",
       "      <th>date_released</th>\n",
       "      <th>active_year_begin</th>\n",
       "      <th>active_year_end</th>\n",
       "      <th>favorites</th>\n",
       "      <th>id</th>\n",
       "      <th>latitude</th>\n",
       "      <th>longitude</th>\n",
       "      <th>duration</th>\n",
       "      <th>favorites</th>\n",
       "      <th>genre_top</th>\n",
       "      <th>genres</th>\n",
       "      <th>genres_all</th>\n",
       "      <th>language_code</th>\n",
       "      <th>listens</th>\n",
       "      <th>title</th>\n",
       "    </tr>\n",
       "    <tr>\n",
       "      <th>track_id</th>\n",
       "      <th></th>\n",
       "      <th></th>\n",
       "      <th></th>\n",
       "      <th></th>\n",
       "      <th></th>\n",
       "      <th></th>\n",
       "      <th></th>\n",
       "      <th></th>\n",
       "      <th></th>\n",
       "      <th></th>\n",
       "      <th></th>\n",
       "      <th></th>\n",
       "      <th></th>\n",
       "      <th></th>\n",
       "      <th></th>\n",
       "    </tr>\n",
       "  </thead>\n",
       "  <tbody>\n",
       "    <tr>\n",
       "      <th>2</th>\n",
       "      <td>2009-01-05 00:00:00</td>\n",
       "      <td>2006-01-01 00:00:00</td>\n",
       "      <td>NaN</td>\n",
       "      <td>9</td>\n",
       "      <td>1</td>\n",
       "      <td>40.058324</td>\n",
       "      <td>-74.405661</td>\n",
       "      <td>168</td>\n",
       "      <td>2</td>\n",
       "      <td>Hip-Hop</td>\n",
       "      <td>[21]</td>\n",
       "      <td>[21]</td>\n",
       "      <td>en</td>\n",
       "      <td>1293</td>\n",
       "      <td>Food</td>\n",
       "    </tr>\n",
       "    <tr>\n",
       "      <th>5</th>\n",
       "      <td>2009-01-05 00:00:00</td>\n",
       "      <td>2006-01-01 00:00:00</td>\n",
       "      <td>NaN</td>\n",
       "      <td>9</td>\n",
       "      <td>1</td>\n",
       "      <td>40.058324</td>\n",
       "      <td>-74.405661</td>\n",
       "      <td>206</td>\n",
       "      <td>6</td>\n",
       "      <td>Hip-Hop</td>\n",
       "      <td>[21]</td>\n",
       "      <td>[21]</td>\n",
       "      <td>en</td>\n",
       "      <td>1151</td>\n",
       "      <td>This World</td>\n",
       "    </tr>\n",
       "    <tr>\n",
       "      <th>10</th>\n",
       "      <td>2008-02-06 00:00:00</td>\n",
       "      <td>NaN</td>\n",
       "      <td>NaN</td>\n",
       "      <td>74</td>\n",
       "      <td>6</td>\n",
       "      <td>NaN</td>\n",
       "      <td>NaN</td>\n",
       "      <td>161</td>\n",
       "      <td>178</td>\n",
       "      <td>Pop</td>\n",
       "      <td>[10]</td>\n",
       "      <td>[10]</td>\n",
       "      <td>en</td>\n",
       "      <td>50135</td>\n",
       "      <td>Freeway</td>\n",
       "    </tr>\n",
       "    <tr>\n",
       "      <th>140</th>\n",
       "      <td>2007-05-22 00:00:00</td>\n",
       "      <td>1999-01-01 00:00:00</td>\n",
       "      <td>NaN</td>\n",
       "      <td>11</td>\n",
       "      <td>54</td>\n",
       "      <td>41.823989</td>\n",
       "      <td>-71.412834</td>\n",
       "      <td>253</td>\n",
       "      <td>5</td>\n",
       "      <td>Folk</td>\n",
       "      <td>[17]</td>\n",
       "      <td>[17]</td>\n",
       "      <td>en</td>\n",
       "      <td>1299</td>\n",
       "      <td>Queen Of The Wires</td>\n",
       "    </tr>\n",
       "    <tr>\n",
       "      <th>141</th>\n",
       "      <td>2009-01-16 00:00:00</td>\n",
       "      <td>1999-01-01 00:00:00</td>\n",
       "      <td>NaN</td>\n",
       "      <td>11</td>\n",
       "      <td>54</td>\n",
       "      <td>41.823989</td>\n",
       "      <td>-71.412834</td>\n",
       "      <td>182</td>\n",
       "      <td>1</td>\n",
       "      <td>Folk</td>\n",
       "      <td>[17]</td>\n",
       "      <td>[17]</td>\n",
       "      <td>en</td>\n",
       "      <td>725</td>\n",
       "      <td>Ohio</td>\n",
       "    </tr>\n",
       "  </tbody>\n",
       "</table>\n",
       "</div>"
      ],
      "text/plain": [
       "                        album               artist                            \\\n",
       "                date_released    active_year_begin active_year_end favorites   \n",
       "track_id                                                                       \n",
       "2         2009-01-05 00:00:00  2006-01-01 00:00:00             NaN         9   \n",
       "5         2009-01-05 00:00:00  2006-01-01 00:00:00             NaN         9   \n",
       "10        2008-02-06 00:00:00                  NaN             NaN        74   \n",
       "140       2007-05-22 00:00:00  1999-01-01 00:00:00             NaN        11   \n",
       "141       2009-01-16 00:00:00  1999-01-01 00:00:00             NaN        11   \n",
       "\n",
       "                                      track                             \\\n",
       "          id   latitude  longitude duration favorites genre_top genres   \n",
       "track_id                                                                 \n",
       "2          1  40.058324 -74.405661      168         2   Hip-Hop   [21]   \n",
       "5          1  40.058324 -74.405661      206         6   Hip-Hop   [21]   \n",
       "10         6        NaN        NaN      161       178       Pop   [10]   \n",
       "140       54  41.823989 -71.412834      253         5      Folk   [17]   \n",
       "141       54  41.823989 -71.412834      182         1      Folk   [17]   \n",
       "\n",
       "                                                               \n",
       "         genres_all language_code listens               title  \n",
       "track_id                                                       \n",
       "2              [21]            en    1293                Food  \n",
       "5              [21]            en    1151          This World  \n",
       "10             [10]            en   50135             Freeway  \n",
       "140            [17]            en    1299  Queen Of The Wires  \n",
       "141            [17]            en     725                Ohio  "
      ]
     },
     "execution_count": 10,
     "metadata": {},
     "output_type": "execute_result"
    }
   ],
   "source": [
    "tracks.head()"
   ]
  },
  {
   "cell_type": "code",
   "execution_count": 11,
   "metadata": {},
   "outputs": [
    {
     "data": {
      "text/plain": [
       "album   date_released         object\n",
       "artist  active_year_begin     object\n",
       "        active_year_end       object\n",
       "        favorites              int64\n",
       "        id                     int64\n",
       "        latitude             float64\n",
       "        longitude            float64\n",
       "track   duration               int64\n",
       "        favorites              int64\n",
       "        genre_top             object\n",
       "        genres                object\n",
       "        genres_all            object\n",
       "        language_code         object\n",
       "        listens                int64\n",
       "        title                 object\n",
       "dtype: object"
      ]
     },
     "execution_count": 11,
     "metadata": {},
     "output_type": "execute_result"
    }
   ],
   "source": [
    "tracks.dtypes"
   ]
  },
  {
   "cell_type": "code",
   "execution_count": 12,
   "metadata": {},
   "outputs": [
    {
     "data": {
      "text/plain": [
       "track_id\n",
       "2      2009\n",
       "5      2009\n",
       "10     2008\n",
       "140    2007\n",
       "141    2009\n",
       "Name: (album, date_released), dtype: object"
      ]
     },
     "execution_count": 12,
     "metadata": {},
     "output_type": "execute_result"
    }
   ],
   "source": [
    "#https://stackoverflow.com/a/45389218\n",
    "#https://www.geeksforgeeks.org/split-a-column-in-pandas-dataframe-and-get-part-of-it/\n",
    "#second level accuracy is not needed for date. year alone is sufficient for music. \n",
    "tracks[( 'album',     'date_released')]=tracks[( 'album',     'date_released')].str.split('-',n=1).str[0]\n",
    "tracks[( 'album',     'date_released')].head()"
   ]
  },
  {
   "cell_type": "code",
   "execution_count": 13,
   "metadata": {},
   "outputs": [
    {
     "name": "stdout",
     "output_type": "stream",
     "text": [
      "track_id\n",
      "2      2006\n",
      "5      2006\n",
      "10      NaN\n",
      "140    1999\n",
      "141    1999\n",
      "Name: (artist, active_year_begin), dtype: object\n",
      "track_id\n",
      "2      NaN\n",
      "5      NaN\n",
      "10     NaN\n",
      "140    NaN\n",
      "141    NaN\n",
      "Name: (artist, active_year_end), dtype: object\n"
     ]
    }
   ],
   "source": [
    "tracks[('artist', 'active_year_begin')]=tracks[('artist', 'active_year_begin')].str.split('-',n=1).str[0]\n",
    "tracks[('artist',   'active_year_end')]=tracks[('artist',   'active_year_end')].str.split('-',n=1).str[0]\n",
    "print(tracks[('artist',   'active_year_begin')].head())\n",
    "print(tracks[('artist',   'active_year_end')].head())"
   ]
  },
  {
   "cell_type": "code",
   "execution_count": 14,
   "metadata": {},
   "outputs": [],
   "source": [
    "#converting year to numeric type\n",
    "#https://stackoverflow.com/a/42719778\n",
    "#errors=coerce encodes NaN as NaN\n",
    "tracks[( 'album',     'date_released')]=pd.to_numeric(tracks[( 'album',     'date_released')], errors='coerce')"
   ]
  },
  {
   "cell_type": "code",
   "execution_count": 15,
   "metadata": {},
   "outputs": [],
   "source": [
    "tracks[('artist', 'active_year_begin')]=pd.to_numeric(tracks[('artist', 'active_year_begin')], errors='coerce')\n",
    "tracks[('artist',   'active_year_end')]=pd.to_numeric(tracks[('artist',   'active_year_end')], errors='coerce')"
   ]
  },
  {
   "cell_type": "code",
   "execution_count": 16,
   "metadata": {},
   "outputs": [
    {
     "data": {
      "text/html": [
       "<div>\n",
       "<style scoped>\n",
       "    .dataframe tbody tr th:only-of-type {\n",
       "        vertical-align: middle;\n",
       "    }\n",
       "\n",
       "    .dataframe tbody tr th {\n",
       "        vertical-align: top;\n",
       "    }\n",
       "\n",
       "    .dataframe thead tr th {\n",
       "        text-align: left;\n",
       "    }\n",
       "\n",
       "    .dataframe thead tr:last-of-type th {\n",
       "        text-align: right;\n",
       "    }\n",
       "</style>\n",
       "<table border=\"1\" class=\"dataframe\">\n",
       "  <thead>\n",
       "    <tr>\n",
       "      <th></th>\n",
       "      <th>album</th>\n",
       "      <th colspan=\"6\" halign=\"left\">artist</th>\n",
       "      <th colspan=\"8\" halign=\"left\">track</th>\n",
       "    </tr>\n",
       "    <tr>\n",
       "      <th></th>\n",
       "      <th>date_released</th>\n",
       "      <th>active_year_begin</th>\n",
       "      <th>active_year_end</th>\n",
       "      <th>favorites</th>\n",
       "      <th>id</th>\n",
       "      <th>latitude</th>\n",
       "      <th>longitude</th>\n",
       "      <th>duration</th>\n",
       "      <th>favorites</th>\n",
       "      <th>genre_top</th>\n",
       "      <th>genres</th>\n",
       "      <th>genres_all</th>\n",
       "      <th>language_code</th>\n",
       "      <th>listens</th>\n",
       "      <th>title</th>\n",
       "    </tr>\n",
       "    <tr>\n",
       "      <th>track_id</th>\n",
       "      <th></th>\n",
       "      <th></th>\n",
       "      <th></th>\n",
       "      <th></th>\n",
       "      <th></th>\n",
       "      <th></th>\n",
       "      <th></th>\n",
       "      <th></th>\n",
       "      <th></th>\n",
       "      <th></th>\n",
       "      <th></th>\n",
       "      <th></th>\n",
       "      <th></th>\n",
       "      <th></th>\n",
       "      <th></th>\n",
       "    </tr>\n",
       "  </thead>\n",
       "  <tbody>\n",
       "    <tr>\n",
       "      <th>2</th>\n",
       "      <td>2009.0</td>\n",
       "      <td>2006.0</td>\n",
       "      <td>NaN</td>\n",
       "      <td>9</td>\n",
       "      <td>1</td>\n",
       "      <td>40.058324</td>\n",
       "      <td>-74.405661</td>\n",
       "      <td>168</td>\n",
       "      <td>2</td>\n",
       "      <td>Hip-Hop</td>\n",
       "      <td>[21]</td>\n",
       "      <td>[21]</td>\n",
       "      <td>en</td>\n",
       "      <td>1293</td>\n",
       "      <td>Food</td>\n",
       "    </tr>\n",
       "    <tr>\n",
       "      <th>5</th>\n",
       "      <td>2009.0</td>\n",
       "      <td>2006.0</td>\n",
       "      <td>NaN</td>\n",
       "      <td>9</td>\n",
       "      <td>1</td>\n",
       "      <td>40.058324</td>\n",
       "      <td>-74.405661</td>\n",
       "      <td>206</td>\n",
       "      <td>6</td>\n",
       "      <td>Hip-Hop</td>\n",
       "      <td>[21]</td>\n",
       "      <td>[21]</td>\n",
       "      <td>en</td>\n",
       "      <td>1151</td>\n",
       "      <td>This World</td>\n",
       "    </tr>\n",
       "    <tr>\n",
       "      <th>10</th>\n",
       "      <td>2008.0</td>\n",
       "      <td>NaN</td>\n",
       "      <td>NaN</td>\n",
       "      <td>74</td>\n",
       "      <td>6</td>\n",
       "      <td>NaN</td>\n",
       "      <td>NaN</td>\n",
       "      <td>161</td>\n",
       "      <td>178</td>\n",
       "      <td>Pop</td>\n",
       "      <td>[10]</td>\n",
       "      <td>[10]</td>\n",
       "      <td>en</td>\n",
       "      <td>50135</td>\n",
       "      <td>Freeway</td>\n",
       "    </tr>\n",
       "    <tr>\n",
       "      <th>140</th>\n",
       "      <td>2007.0</td>\n",
       "      <td>1999.0</td>\n",
       "      <td>NaN</td>\n",
       "      <td>11</td>\n",
       "      <td>54</td>\n",
       "      <td>41.823989</td>\n",
       "      <td>-71.412834</td>\n",
       "      <td>253</td>\n",
       "      <td>5</td>\n",
       "      <td>Folk</td>\n",
       "      <td>[17]</td>\n",
       "      <td>[17]</td>\n",
       "      <td>en</td>\n",
       "      <td>1299</td>\n",
       "      <td>Queen Of The Wires</td>\n",
       "    </tr>\n",
       "    <tr>\n",
       "      <th>141</th>\n",
       "      <td>2009.0</td>\n",
       "      <td>1999.0</td>\n",
       "      <td>NaN</td>\n",
       "      <td>11</td>\n",
       "      <td>54</td>\n",
       "      <td>41.823989</td>\n",
       "      <td>-71.412834</td>\n",
       "      <td>182</td>\n",
       "      <td>1</td>\n",
       "      <td>Folk</td>\n",
       "      <td>[17]</td>\n",
       "      <td>[17]</td>\n",
       "      <td>en</td>\n",
       "      <td>725</td>\n",
       "      <td>Ohio</td>\n",
       "    </tr>\n",
       "  </tbody>\n",
       "</table>\n",
       "</div>"
      ],
      "text/plain": [
       "                 album            artist                                \\\n",
       "         date_released active_year_begin active_year_end favorites  id   \n",
       "track_id                                                                 \n",
       "2               2009.0            2006.0             NaN         9   1   \n",
       "5               2009.0            2006.0             NaN         9   1   \n",
       "10              2008.0               NaN             NaN        74   6   \n",
       "140             2007.0            1999.0             NaN        11  54   \n",
       "141             2009.0            1999.0             NaN        11  54   \n",
       "\n",
       "                                  track                                        \\\n",
       "           latitude  longitude duration favorites genre_top genres genres_all   \n",
       "track_id                                                                        \n",
       "2         40.058324 -74.405661      168         2   Hip-Hop   [21]       [21]   \n",
       "5         40.058324 -74.405661      206         6   Hip-Hop   [21]       [21]   \n",
       "10              NaN        NaN      161       178       Pop   [10]       [10]   \n",
       "140       41.823989 -71.412834      253         5      Folk   [17]       [17]   \n",
       "141       41.823989 -71.412834      182         1      Folk   [17]       [17]   \n",
       "\n",
       "                                                    \n",
       "         language_code listens               title  \n",
       "track_id                                            \n",
       "2                   en    1293                Food  \n",
       "5                   en    1151          This World  \n",
       "10                  en   50135             Freeway  \n",
       "140                 en    1299  Queen Of The Wires  \n",
       "141                 en     725                Ohio  "
      ]
     },
     "execution_count": 16,
     "metadata": {},
     "output_type": "execute_result"
    }
   ],
   "source": [
    "tracks.head()"
   ]
  },
  {
   "cell_type": "code",
   "execution_count": 17,
   "metadata": {},
   "outputs": [],
   "source": [
    "#replace NaN with -1\n",
    "tracks=tracks.fillna(-1)"
   ]
  },
  {
   "cell_type": "code",
   "execution_count": 18,
   "metadata": {},
   "outputs": [
    {
     "data": {
      "text/plain": [
       "[21]                        598\n",
       "[18, 1235]                  537\n",
       "[17]                        532\n",
       "[10]                        473\n",
       "[10, 76]                    351\n",
       "                           ... \n",
       "[185, 236, 695, 15]           1\n",
       "[25, 98, 12]                  1\n",
       "[26, 12, 66, 98]              1\n",
       "[297, 15, 468, 181, 182]      1\n",
       "[36, 12]                      1\n",
       "Name: (track, genres_all), Length: 442, dtype: int64"
      ]
     },
     "execution_count": 18,
     "metadata": {},
     "output_type": "execute_result"
    }
   ],
   "source": [
    "tracks[('track','genres_all')].value_counts()"
   ]
  },
  {
   "cell_type": "code",
   "execution_count": 19,
   "metadata": {},
   "outputs": [
    {
     "data": {
      "text/plain": [
       "{'[21]': 'Hip-Hop',\n",
       " '[10]': 'Pop',\n",
       " '[17]': 'Folk',\n",
       " '[1, 38]': 'Experimental',\n",
       " '[27, 12]': 'Rock',\n",
       " '[12]': 'Rock',\n",
       " '[12, 31]': 'Rock',\n",
       " '[89, 12, 25]': 'Rock',\n",
       " '[36, 12]': 'Rock',\n",
       " '[25, 12]': 'Rock',\n",
       " '[41, 38]': 'Experimental',\n",
       " '[2, 79]': 'International',\n",
       " '[2, 46]': 'International',\n",
       " '[58, 66, 12, 45]': 'Rock',\n",
       " '[2]': 'International',\n",
       " '[49, 17]': 'Folk',\n",
       " '[32, 38]': 'Experimental',\n",
       " '[45, 12, 53]': 'Rock',\n",
       " '[38, 22]': 'Experimental',\n",
       " '[38, 47]': 'Experimental',\n",
       " '[15]': 'Electronic',\n",
       " '[33, 17]': 'Folk',\n",
       " '[38, 30]': 'Experimental',\n",
       " '[58, 12]': 'Rock',\n",
       " '[38]': 'Experimental',\n",
       " '[98, 12]': 'Rock',\n",
       " '[10, 76]': 'Pop',\n",
       " '[58, 45, 12, 53]': 'Rock',\n",
       " '[26, 12]': 'Rock',\n",
       " '[2, 117, 46]': 'International',\n",
       " '[2, 118]': 'International',\n",
       " '[12, 85]': 'Rock',\n",
       " '[25, 12, 109]': 'Rock',\n",
       " '[17, 103]': 'Folk',\n",
       " '[2, 117, 118, 130]': 'International',\n",
       " '[2, 92, 102]': 'International',\n",
       " '[2, 77]': 'International',\n",
       " '[2, 102]': 'International',\n",
       " '[25, 12, 85]': 'Rock',\n",
       " '[224, 38]': 'Experimental',\n",
       " '[17, 94]': 'Folk',\n",
       " '[2, 92]': 'International',\n",
       " '[2, 118, 130]': 'International',\n",
       " '[2, 118, 102]': 'International',\n",
       " '[12, 101, 31]': 'Rock',\n",
       " '[1, 38, 22]': 'Experimental',\n",
       " '[32, 1, 38]': 'Experimental',\n",
       " '[38, 32, 30]': 'Experimental',\n",
       " '[64, 25, 12]': 'Rock',\n",
       " '[58, 12, 85]': 'Rock',\n",
       " '[98, 36, 12, 89, 25]': 'Rock',\n",
       " '[125, 38]': 'Experimental',\n",
       " '[38, 32, 22]': 'Experimental',\n",
       " '[100, 21]': 'Hip-Hop',\n",
       " '[538, 18, 1235]': 'Instrumental',\n",
       " '[32, 224, 38]': 'Experimental',\n",
       " '[33, 17, 103]': 'Folk',\n",
       " '[12, 70]': 'Rock',\n",
       " '[236, 15]': 'Electronic',\n",
       " '[88, 98, 12]': 'Rock',\n",
       " '[58, 12, 66]': 'Rock',\n",
       " '[32, 1, 38, 22, 125]': 'Experimental',\n",
       " '[539, 21]': 'Hip-Hop',\n",
       " '[337, 15]': 'Electronic',\n",
       " '[16, 38, 763, 6]': 'Experimental',\n",
       " '[286, 15]': 'Electronic',\n",
       " '[224, 41, 38]': 'Experimental',\n",
       " '[33, 17, 94]': 'Folk',\n",
       " '[66, 12]': 'Rock',\n",
       " '[2, 92, 214]': 'International',\n",
       " '[297, 15]': 'Electronic',\n",
       " '[185, 15]': 'Electronic',\n",
       " '[18, 1235]': 'Instrumental',\n",
       " '[362, 10]': 'Pop',\n",
       " '[181, 15]': 'Electronic',\n",
       " '[2, 174, 86]': 'International',\n",
       " '[2, 172]': 'International',\n",
       " '[10, 362]': 'Pop',\n",
       " '[81, 2, 92]': 'International',\n",
       " '[404, 12, 85]': 'Rock',\n",
       " '[89, 25, 66, 12]': 'Rock',\n",
       " '[2, 92, 86]': 'International',\n",
       " '[31, 12, 167]': 'Rock',\n",
       " '[240, 297, 15]': 'Electronic',\n",
       " '[36, 12, 45, 53, 58]': 'Rock',\n",
       " '[440, 12]': 'Rock',\n",
       " '[2, 171, 92]': 'International',\n",
       " '[113, 26, 12]': 'Rock',\n",
       " '[2, 171]': 'International',\n",
       " '[17, 33]': 'Folk',\n",
       " '[296, 181, 182, 15]': 'Electronic',\n",
       " '[184, 183, 42, 15]': 'Electronic',\n",
       " '[468, 15]': 'Electronic',\n",
       " '[400, 182, 286, 15]': 'Electronic',\n",
       " '[32, 1, 250, 38]': 'Experimental',\n",
       " '[89, 25, 12]': 'Rock',\n",
       " '[2, 130]': 'International',\n",
       " '[32, 38, 41, 47, 250]': 'Experimental',\n",
       " '[42, 15]': 'Electronic',\n",
       " '[184, 42, 15]': 'Electronic',\n",
       " '[514, 38]': 'Experimental',\n",
       " '[41, 186, 38]': 'Experimental',\n",
       " '[130, 2, 524]': 'International',\n",
       " '[2, 1060, 46]': 'International',\n",
       " '[184, 182, 15]': 'Electronic',\n",
       " '[130, 2]': 'International',\n",
       " '[250, 38]': 'Experimental',\n",
       " '[2, 602, 79]': 'International',\n",
       " '[186, 38]': 'Experimental',\n",
       " '[184, 15]': 'Electronic',\n",
       " '[404, 58, 12, 85]': 'Rock',\n",
       " '[182, 15]': 'Electronic',\n",
       " '[400, 297, 182, 15]': 'Electronic',\n",
       " '[183, 15]': 'Electronic',\n",
       " '[17, 180, 33]': 'Folk',\n",
       " '[181, 182, 15]': 'Electronic',\n",
       " '[2, 130, 232, 619, 504]': 'International',\n",
       " '[184, 181, 182, 15]': 'Electronic',\n",
       " '[400, 42, 182, 15]': 'Electronic',\n",
       " '[224, 1, 38]': 'Experimental',\n",
       " '[456, 38]': 'Experimental',\n",
       " '[2, 172, 92]': 'International',\n",
       " '[25, 12, 85, 111]': 'Rock',\n",
       " '[296, 468, 15]': 'Electronic',\n",
       " '[66, 27, 12]': 'Rock',\n",
       " '[66, 12, 36]': 'Rock',\n",
       " '[66, 27, 12, 359]': 'Rock',\n",
       " '[10, 76, 362]': 'Pop',\n",
       " '[64, 71, 12, 88, 25]': 'Rock',\n",
       " '[296, 15, 400, 401, 181, 182, 286]': 'Electronic',\n",
       " '[224, 514, 38]': 'Experimental',\n",
       " '[337, 236, 15]': 'Electronic',\n",
       " '[21, 542]': 'Hip-Hop',\n",
       " '[38, 360, 6]': 'Experimental',\n",
       " '[89, 25, 12, 71]': 'Rock',\n",
       " '[17, 180, 103]': 'Folk',\n",
       " '[1, 38, 41]': 'Experimental',\n",
       " '[107, 1235]': 'Instrumental',\n",
       " '[240, 297, 296, 15]': 'Electronic',\n",
       " '[32, 1, 125, 38]': 'Experimental',\n",
       " '[456, 38, 247]': 'Experimental',\n",
       " '[1, 247, 38, 41]': 'Experimental',\n",
       " '[296, 468, 286, 15]': 'Electronic',\n",
       " '[2, 171, 79]': 'International',\n",
       " '[17, 180]': 'Folk',\n",
       " '[177, 2, 77]': 'International',\n",
       " '[25, 12, 111]': 'Rock',\n",
       " '[2, 46, 502]': 'International',\n",
       " '[42, 495, 15]': 'Electronic',\n",
       " '[15, 495]': 'Electronic',\n",
       " '[296, 236, 15, 468, 181, 182]': 'Electronic',\n",
       " '[1, 250, 38]': 'Experimental',\n",
       " '[1, 38, 247, 186, 30]': 'Experimental',\n",
       " '[1, 125, 38]': 'Experimental',\n",
       " '[468, 181, 182, 15]': 'Electronic',\n",
       " '[113, 58, 26, 12]': 'Rock',\n",
       " '[42, 15, 400, 181, 182, 286]': 'Electronic',\n",
       " '[42, 15, 400, 468, 182]': 'Electronic',\n",
       " '[42, 15, 400, 182, 286]': 'Electronic',\n",
       " '[491, 468, 15]': 'Electronic',\n",
       " '[224, 1, 186, 38]': 'Experimental',\n",
       " '[107, 18, 1235]': 'Instrumental',\n",
       " '[167, 361, 12, 109, 25, 31]': 'Rock',\n",
       " '[38, 6]': 'Experimental',\n",
       " '[2, 524, 117, 130]': 'International',\n",
       " '[88, 25, 12]': 'Rock',\n",
       " '[12, 404, 85]': 'Rock',\n",
       " '[177, 2]': 'International',\n",
       " '[1, 38, 41, 247, 30]': 'Experimental',\n",
       " '[38, 125, 30]': 'Experimental',\n",
       " '[296, 15]': 'Electronic',\n",
       " '[125, 38, 47]': 'Experimental',\n",
       " '[361, 12, 45, 109, 53, 25, 90, 31]': 'Rock',\n",
       " '[41, 514, 38]': 'Experimental',\n",
       " '[401, 181, 15]': 'Electronic',\n",
       " '[1, 38, 247]': 'Experimental',\n",
       " '[32, 186, 38, 47]': 'Experimental',\n",
       " '[404, 66, 12, 85]': 'Rock',\n",
       " '[58, 12, 98]': 'Rock',\n",
       " '[504, 2, 602, 79]': 'International',\n",
       " '[337, 401, 181, 15]': 'Electronic',\n",
       " '[25, 27, 12, 85]': 'Rock',\n",
       " '[2, 86]': 'International',\n",
       " '[130, 2, 741]': 'International',\n",
       " '[2, 130, 102, 524, 118]': 'International',\n",
       " '[130, 2, 524, 741]': 'International',\n",
       " '[2, 118, 102, 130]': 'International',\n",
       " '[811, 21]': 'Hip-Hop',\n",
       " '[32, 250, 38]': 'Experimental',\n",
       " '[360, 38, 6]': 'Experimental',\n",
       " '[2, 524, 118, 130]': 'International',\n",
       " '[38, 30, 456]': 'Experimental',\n",
       " '[808, 2, 46]': 'International',\n",
       " '[26, 12, 66]': 'Rock',\n",
       " '[89, 12, 85, 25]': 'Rock',\n",
       " '[25, 27, 12]': 'Rock',\n",
       " '[400, 495, 182, 15]': 'Electronic',\n",
       " '[361, 12, 109, 25, 31]': 'Rock',\n",
       " '[27, 12, 85]': 'Rock',\n",
       " '[456, 1, 38]': 'Experimental',\n",
       " '[113, 66, 26, 12]': 'Rock',\n",
       " '[183, 468, 15]': 'Electronic',\n",
       " '[297, 42, 15, 240, 400, 182]': 'Electronic',\n",
       " '[26, 36, 12, 113, 58]': 'Rock',\n",
       " '[456, 250, 38]': 'Experimental',\n",
       " '[12, 359]': 'Rock',\n",
       " '[12, 45, 53, 89, 25]': 'Rock',\n",
       " '[504, 2]': 'International',\n",
       " '[25, 66, 12, 111]': 'Rock',\n",
       " '[456, 38, 47]': 'Experimental',\n",
       " '[89, 25, 12, 359]': 'Rock',\n",
       " '[25, 58, 12, 85]': 'Rock',\n",
       " '[38, 30, 47]': 'Experimental',\n",
       " '[101, 12, 113, 26, 31]': 'Rock',\n",
       " '[236, 181, 15]': 'Electronic',\n",
       " '[811, 539, 580, 21]': 'Hip-Hop',\n",
       " '[89, 26, 12, 25]': 'Rock',\n",
       " '[296, 181, 15]': 'Electronic',\n",
       " '[101, 12, 45, 53, 31]': 'Rock',\n",
       " '[25, 12, 71]': 'Rock',\n",
       " '[456, 514, 38]': 'Experimental',\n",
       " '[183, 236, 181, 15]': 'Electronic',\n",
       " '[17, 103, 33]': 'Folk',\n",
       " '[66, 12, 111, 85, 25]': 'Rock',\n",
       " '[2, 92, 602, 79]': 'International',\n",
       " '[101, 12, 439, 27, 31]': 'Rock',\n",
       " '[38, 6, 1193, 16, 763]': 'Experimental',\n",
       " '[64, 25, 12, 70]': 'Rock',\n",
       " '[38, 224, 30]': 'Experimental',\n",
       " '[49, 17, 103]': 'Folk',\n",
       " '[12, 111, 89, 27, 25]': 'Rock',\n",
       " '[25, 12, 85, 404]': 'Rock',\n",
       " '[88, 25, 12, 111]': 'Rock',\n",
       " '[232, 2, 118]': 'International',\n",
       " '[32, 38, 247]': 'Experimental',\n",
       " '[32, 1, 38, 22]': 'Experimental',\n",
       " '[66, 12, 98]': 'Rock',\n",
       " '[98, 361, 12, 109, 25]': 'Rock',\n",
       " '[25, 12, 359, 111]': 'Rock',\n",
       " '[42, 468, 15]': 'Electronic',\n",
       " '[89, 66, 12, 25]': 'Rock',\n",
       " '[12, 45, 53, 439, 25, 90, 31]': 'Rock',\n",
       " '[167, 12, 31]': 'Rock',\n",
       " '[66, 26, 12, 113, 58]': 'Rock',\n",
       " '[296, 182, 15]': 'Electronic',\n",
       " '[337, 468, 15]': 'Electronic',\n",
       " '[26, 12, 98]': 'Rock',\n",
       " '[32, 38, 456]': 'Experimental',\n",
       " '[38, 247]': 'Experimental',\n",
       " '[468, 236, 15]': 'Electronic',\n",
       " '[64, 25, 66, 12]': 'Rock',\n",
       " '[296, 42, 181, 15]': 'Electronic',\n",
       " '[32, 1, 224, 38, 41, 186]': 'Experimental',\n",
       " '[404, 27, 12, 85]': 'Rock',\n",
       " '[42, 236, 15]': 'Electronic',\n",
       " '[58, 36, 12]': 'Rock',\n",
       " '[25, 12, 109, 361]': 'Rock',\n",
       " '[400, 182, 15]': 'Electronic',\n",
       " '[314, 12]': 'Rock',\n",
       " '[495, 468, 15]': 'Electronic',\n",
       " '[296, 400, 182, 15]': 'Electronic',\n",
       " '[41, 38, 47]': 'Experimental',\n",
       " '[12, 45, 53, 88, 90]': 'Rock',\n",
       " '[495, 400, 15, 182, 286]': 'Electronic',\n",
       " '[89, 27, 12, 25]': 'Rock',\n",
       " '[31, 12, 439]': 'Rock',\n",
       " '[183, 236, 15]': 'Electronic',\n",
       " '[25, 45, 12, 53]': 'Rock',\n",
       " '[25, 66, 12]': 'Rock',\n",
       " '[12, 45, 314, 53, 85, 90]': 'Rock',\n",
       " '[25, 66, 12, 85]': 'Rock',\n",
       " '[33, 103, 17, 94]': 'Folk',\n",
       " '[297, 468, 182, 15]': 'Electronic',\n",
       " '[296, 695, 15]': 'Electronic',\n",
       " '[240, 297, 286, 15]': 'Electronic',\n",
       " '[42, 495, 236, 15]': 'Electronic',\n",
       " '[456, 1, 38, 47]': 'Experimental',\n",
       " '[337, 286, 15]': 'Electronic',\n",
       " '[25, 109, 12, 45]': 'Rock',\n",
       " '[98, 26, 12, 113, 58]': 'Rock',\n",
       " '[88, 66, 12, 85]': 'Rock',\n",
       " '[89, 12, 109, 25]': 'Rock',\n",
       " '[12, 45, 31]': 'Rock',\n",
       " '[17, 94, 103]': 'Folk',\n",
       " '[38, 514, 30]': 'Experimental',\n",
       " '[1235]': 'Instrumental',\n",
       " '[297, 181, 182, 15]': 'Electronic',\n",
       " '[297, 15, 468, 181, 182]': 'Electronic',\n",
       " '[83, 100, 21]': 'Hip-Hop',\n",
       " '[2, 130, 102, 1032, 524]': 'International',\n",
       " '[236, 15, 400, 182, 286]': 'Electronic',\n",
       " '[38, 30, 247]': 'Experimental',\n",
       " '[101, 12, 109, 25, 31]': 'Rock',\n",
       " '[1, 186, 38]': 'Experimental',\n",
       " '[337, 468, 236, 15]': 'Electronic',\n",
       " '[297, 491, 468, 15]': 'Electronic',\n",
       " '[25, 12, 45, 31]': 'Rock',\n",
       " '[26, 12, 359]': 'Rock',\n",
       " '[88, 12]': 'Rock',\n",
       " '[400, 236, 182, 15]': 'Electronic',\n",
       " '[89, 25, 12, 109]': 'Rock',\n",
       " '[64, 25, 12, 85]': 'Rock',\n",
       " '[400, 468, 182, 15]': 'Electronic',\n",
       " '[337, 695, 15]': 'Electronic',\n",
       " '[267, 1235]': 'Instrumental',\n",
       " '[32, 38, 47]': 'Experimental',\n",
       " '[337, 42, 15]': 'Electronic',\n",
       " '[66, 12, 85, 31]': 'Rock',\n",
       " '[468, 181, 15]': 'Electronic',\n",
       " '[98, 26, 12, 113, 89, 58, 25]': 'Rock',\n",
       " '[26, 12, 31]': 'Rock',\n",
       " '[337, 236, 695, 15]': 'Electronic',\n",
       " '[66, 12, 89, 314, 25]': 'Rock',\n",
       " '[49, 103, 17, 94]': 'Folk',\n",
       " '[183, 185, 15]': 'Electronic',\n",
       " '[267, 107, 1235]': 'Instrumental',\n",
       " '[66, 12, 88, 89, 25]': 'Rock',\n",
       " '[12, 45, 53, 89, 25, 31]': 'Rock',\n",
       " '[25, 12, 109, 31]': 'Rock',\n",
       " '[38, 22, 47]': 'Experimental',\n",
       " '[184, 337, 15]': 'Electronic',\n",
       " '[1, 250, 38, 41]': 'Experimental',\n",
       " '[66, 12, 85]': 'Rock',\n",
       " '[89, 12, 25, 111]': 'Rock',\n",
       " '[88, 89, 12, 25]': 'Rock',\n",
       " '[224, 514, 38, 247]': 'Experimental',\n",
       " '[58, 85, 12, 66]': 'Rock',\n",
       " '[184, 400, 182, 15]': 'Electronic',\n",
       " '[2, 130, 79]': 'International',\n",
       " '[66, 359, 12, 111, 25]': 'Rock',\n",
       " '[17, 103, 49]': 'Folk',\n",
       " '[25, 12, 31, 167]': 'Rock',\n",
       " '[1, 514, 38, 250, 125]': 'Experimental',\n",
       " '[539, 100, 21]': 'Hip-Hop',\n",
       " '[32, 250, 38, 456]': 'Experimental',\n",
       " '[71, 12, 45, 53, 25]': 'Rock',\n",
       " '[495, 286, 15]': 'Electronic',\n",
       " '[250, 514, 38]': 'Experimental',\n",
       " '[183, 495, 15]': 'Electronic',\n",
       " '[66, 12, 31]': 'Rock',\n",
       " '[46, 2, 502, 79]': 'International',\n",
       " '[32, 41, 514, 38]': 'Experimental',\n",
       " '[1, 514, 38, 247]': 'Experimental',\n",
       " '[297, 468, 15]': 'Electronic',\n",
       " '[184, 296, 15]': 'Electronic',\n",
       " '[247, 38, 47]': 'Experimental',\n",
       " '[12, 70, 31]': 'Rock',\n",
       " '[337, 15, 695, 183]': 'Electronic',\n",
       " '[404, 314, 12, 85]': 'Rock',\n",
       " '[468, 286, 15]': 'Electronic',\n",
       " '[2, 741, 130]': 'International',\n",
       " '[240, 297, 182, 15]': 'Electronic',\n",
       " '[25, 66, 12, 109]': 'Rock',\n",
       " '[25, 26, 12, 109]': 'Rock',\n",
       " '[88, 66, 12]': 'Rock',\n",
       " '[64, 25, 314, 12]': 'Rock',\n",
       " '[66, 12, 89, 27, 25]': 'Rock',\n",
       " '[185, 236, 695, 15]': 'Electronic',\n",
       " '[314, 12, 70]': 'Rock',\n",
       " '[224, 38, 47]': 'Experimental',\n",
       " '[15, 695]': 'Electronic',\n",
       " '[66, 12, 359]': 'Rock',\n",
       " '[296, 236, 15]': 'Electronic',\n",
       " '[224, 186, 514, 38]': 'Experimental',\n",
       " '[98, 12, 31]': 'Rock',\n",
       " '[27, 12, 45, 31]': 'Rock',\n",
       " '[514, 125, 38]': 'Experimental',\n",
       " '[12, 85, 70, 359]': 'Rock',\n",
       " '[495, 286, 182, 15]': 'Electronic',\n",
       " '[2, 102, 130]': 'International',\n",
       " '[66, 12, 45, 53, 90, 31]': 'Rock',\n",
       " '[296, 491, 468, 15]': 'Electronic',\n",
       " '[1, 38, 30]': 'Experimental',\n",
       " '[98, 58, 36, 12, 89, 26, 25]': 'Rock',\n",
       " '[236, 182, 15]': 'Electronic',\n",
       " '[45, 12, 53, 31]': 'Rock',\n",
       " '[1, 186, 38, 30]': 'Experimental',\n",
       " '[27, 12, 31]': 'Rock',\n",
       " '[25, 98, 12]': 'Rock',\n",
       " '[811, 539, 100, 21]': 'Hip-Hop',\n",
       " '[36, 12, 359]': 'Rock',\n",
       " '[12, 45, 53, 90, 31]': 'Rock',\n",
       " '[695, 236, 15]': 'Electronic',\n",
       " '[337, 468, 15, 183]': 'Electronic',\n",
       " '[42, 15, 337, 401, 181]': 'Electronic',\n",
       " '[12, 109, 404, 85, 89, 25]': 'Rock',\n",
       " '[296, 15, 400, 495, 181, 182]': 'Electronic',\n",
       " '[32, 41, 250, 38]': 'Experimental',\n",
       " '[12, 45, 53, 25, 26]': 'Rock',\n",
       " '[25, 109, 12, 85]': 'Rock',\n",
       " '[26, 12, 66, 359]': 'Rock',\n",
       " '[26, 12, 36, 98]': 'Rock',\n",
       " '[602, 2, 79]': 'International',\n",
       " '[25, 12, 31, 439]': 'Rock',\n",
       " '[495, 468, 286, 15]': 'Electronic',\n",
       " '[88, 12, 85]': 'Rock',\n",
       " '[32, 186, 38]': 'Experimental',\n",
       " '[41, 125, 38]': 'Experimental',\n",
       " '[26, 12, 66, 98]': 'Rock',\n",
       " '[296, 42, 15]': 'Electronic',\n",
       " '[811, 21, 542]': 'Hip-Hop',\n",
       " '[504, 2, 46]': 'International',\n",
       " '[400, 15, 182, 183]': 'Electronic',\n",
       " '[70, 167, 12, 314, 31]': 'Rock',\n",
       " '[33, 17, 49]': 'Folk',\n",
       " '[250, 125, 38]': 'Experimental',\n",
       " '[12, 109, 439, 25, 31]': 'Rock',\n",
       " '[38, 32, 250, 22]': 'Experimental',\n",
       " '[224, 38, 247]': 'Experimental',\n",
       " '[32, 125, 38]': 'Experimental',\n",
       " '[42, 236, 182, 15]': 'Electronic',\n",
       " '[25, 27, 12, 111]': 'Rock',\n",
       " '[58, 12, 314]': 'Rock',\n",
       " '[66, 12, 89, 26, 25]': 'Rock',\n",
       " '[495, 236, 15]': 'Electronic',\n",
       " '[1032, 2, 102]': 'International',\n",
       " '[25, 12, 31]': 'Rock',\n",
       " '[46, 2, 502]': 'International',\n",
       " '[184, 15, 236, 183]': 'Electronic',\n",
       " '[337, 495, 15]': 'Electronic',\n",
       " '[440, 25, 12, 85]': 'Rock',\n",
       " '[361, 12, 109, 439, 25, 31]': 'Rock',\n",
       " '[41, 38, 247]': 'Experimental',\n",
       " '[101, 167, 12, 45, 109, 53, 25, 31]': 'Rock',\n",
       " '[66, 359, 12, 113, 26]': 'Rock',\n",
       " '[456, 247, 38, 47]': 'Experimental',\n",
       " '[183, 42, 236, 15]': 'Electronic',\n",
       " '[337, 182, 15]': 'Electronic',\n",
       " '[811, 83, 100, 21]': 'Hip-Hop',\n",
       " '[184, 42, 236, 15]': 'Electronic',\n",
       " '[495, 15]': 'Electronic',\n",
       " '[167, 12, 109, 439, 25, 31]': 'Rock',\n",
       " '[64, 66, 12, 88, 25]': 'Rock',\n",
       " '[101, 12, 109, 45, 25, 31]': 'Rock',\n",
       " '[100, 21, 580]': 'Hip-Hop',\n",
       " '[456, 41, 514, 38]': 'Experimental',\n",
       " '[337, 181, 15]': 'Electronic',\n",
       " '[400, 337, 182, 15]': 'Electronic',\n",
       " '[440, 25, 12]': 'Rock',\n",
       " '[98, 36, 12, 113, 26]': 'Rock',\n",
       " '[539, 580, 21]': 'Hip-Hop',\n",
       " '[811, 539, 21]': 'Hip-Hop'}"
      ]
     },
     "execution_count": 19,
     "metadata": {},
     "output_type": "execute_result"
    }
   ],
   "source": [
    "#https://stackoverflow.com/a/53941382\n",
    "#genres_all column contains info about sub genres. eg: what kind of rock and also secondary genre of tracks\n",
    "genre_dict = dict(zip(tracks[('track','genres_all')],tracks[('track','genre_top')]))\n",
    "genre_dict"
   ]
  },
  {
   "cell_type": "code",
   "execution_count": 20,
   "metadata": {},
   "outputs": [],
   "source": [
    "#removing genre_top and genres. genre_top is saved as label already.\n",
    "tracks=tracks[[( 'album',     'date_released'),\n",
    "            ('artist', 'active_year_begin'),\n",
    "            ('artist',   'active_year_end'),\n",
    "            ('artist',         'favorites'),\n",
    "            ('artist',                'id'),\n",
    "            ('artist',          'latitude'),\n",
    "            ('artist',         'longitude'),\n",
    "            ( 'track',          'duration'),\n",
    "            ( 'track',         'favorites'),\n",
    "            ( 'track',        'genres_all'),\n",
    "            ( 'track',     'language_code'),\n",
    "            ( 'track',           'listens'),\n",
    "            ( 'track',             'title')]]"
   ]
  },
  {
   "cell_type": "code",
   "execution_count": 21,
   "metadata": {},
   "outputs": [],
   "source": [
    "tracks=tracks.drop([99134,108925,133297]) #removing unreadable audios"
   ]
  },
  {
   "cell_type": "code",
   "execution_count": 22,
   "metadata": {},
   "outputs": [
    {
     "data": {
      "text/plain": [
       "7997"
      ]
     },
     "execution_count": 22,
     "metadata": {},
     "output_type": "execute_result"
    }
   ],
   "source": [
    "len(tracks.index) #no of audios"
   ]
  },
  {
   "cell_type": "markdown",
   "metadata": {},
   "source": [
    "### Data Split:"
   ]
  },
  {
   "cell_type": "code",
   "execution_count": 24,
   "metadata": {},
   "outputs": [],
   "source": [
    "from sklearn.model_selection import train_test_split\n",
    "X_train, X_test, y_train, y_test = train_test_split(tracks.values, label, test_size=0.20, random_state=42,stratify=label)"
   ]
  },
  {
   "cell_type": "code",
   "execution_count": 25,
   "metadata": {},
   "outputs": [
    {
     "data": {
      "text/plain": [
       "(6397,)"
      ]
     },
     "execution_count": 25,
     "metadata": {},
     "output_type": "execute_result"
    }
   ],
   "source": [
    "y_train.shape"
   ]
  },
  {
   "cell_type": "code",
   "execution_count": 26,
   "metadata": {},
   "outputs": [
    {
     "data": {
      "text/plain": [
       "array(['Pop', 'Instrumental', 'Experimental', 'Electronic', 'Electronic',\n",
       "       'Instrumental', 'Rock', 'Hip-Hop', 'Experimental', 'Experimental'],\n",
       "      dtype=object)"
      ]
     },
     "execution_count": 26,
     "metadata": {},
     "output_type": "execute_result"
    }
   ],
   "source": [
    "y_train[0:10]"
   ]
  },
  {
   "cell_type": "code",
   "execution_count": 27,
   "metadata": {},
   "outputs": [
    {
     "data": {
      "text/plain": [
       "array(['Rock', 'International', 'Folk', 'Folk', 'Electronic', 'Hip-Hop',\n",
       "       'Hip-Hop', 'Pop', 'Instrumental', 'International'], dtype=object)"
      ]
     },
     "execution_count": 27,
     "metadata": {},
     "output_type": "execute_result"
    }
   ],
   "source": [
    "y_test[0:10]"
   ]
  },
  {
   "cell_type": "code",
   "execution_count": 101,
   "metadata": {},
   "outputs": [],
   "source": [
    "#https://machinelearningmastery.com/how-to-prepare-categorical-data-for-deep-learning-in-python/\n",
    "from sklearn.preprocessing import OneHotEncoder\n",
    "one_hot = OneHotEncoder()\n",
    "one_hot.fit(y_train.reshape(-1,1))\n",
    "label_Enc_train=one_hot.transform(y_train.reshape(-1,1)).todense()\n",
    "label_Enc_test=one_hot.transform(y_test.reshape(-1,1)).todense()"
   ]
  },
  {
   "cell_type": "code",
   "execution_count": 102,
   "metadata": {},
   "outputs": [],
   "source": [
    "label_Enc=np.vstack((label_Enc_train,label_Enc_test))"
   ]
  },
  {
   "cell_type": "code",
   "execution_count": 103,
   "metadata": {},
   "outputs": [
    {
     "data": {
      "text/plain": [
       "(7997, 8)"
      ]
     },
     "execution_count": 103,
     "metadata": {},
     "output_type": "execute_result"
    }
   ],
   "source": [
    "label_Enc.shape"
   ]
  },
  {
   "cell_type": "code",
   "execution_count": 104,
   "metadata": {},
   "outputs": [],
   "source": [
    "np.save('label_Enc',label_Enc) #one hot encode label"
   ]
  },
  {
   "cell_type": "code",
   "execution_count": 105,
   "metadata": {},
   "outputs": [],
   "source": [
    "label_Enc=np.load('label_Enc.npy')"
   ]
  },
  {
   "cell_type": "code",
   "execution_count": 106,
   "metadata": {},
   "outputs": [
    {
     "data": {
      "text/plain": [
       "array([[0., 0., 0., 0., 0., 0., 1., 0.],\n",
       "       [0., 0., 0., 0., 1., 0., 0., 0.],\n",
       "       [0., 1., 0., 0., 0., 0., 0., 0.],\n",
       "       [1., 0., 0., 0., 0., 0., 0., 0.],\n",
       "       [1., 0., 0., 0., 0., 0., 0., 0.],\n",
       "       [0., 0., 0., 0., 1., 0., 0., 0.],\n",
       "       [0., 0., 0., 0., 0., 0., 0., 1.],\n",
       "       [0., 0., 0., 1., 0., 0., 0., 0.],\n",
       "       [0., 1., 0., 0., 0., 0., 0., 0.],\n",
       "       [0., 1., 0., 0., 0., 0., 0., 0.]])"
      ]
     },
     "execution_count": 106,
     "metadata": {},
     "output_type": "execute_result"
    }
   ],
   "source": [
    "label_Enc[0:10]"
   ]
  },
  {
   "cell_type": "markdown",
   "metadata": {},
   "source": [
    "### Featurization:"
   ]
  },
  {
   "cell_type": "markdown",
   "metadata": {},
   "source": [
    "#### Artist_ID:"
   ]
  },
  {
   "cell_type": "code",
   "execution_count": 109,
   "metadata": {},
   "outputs": [
    {
     "data": {
      "text/plain": [
       "'18873'"
      ]
     },
     "execution_count": 109,
     "metadata": {},
     "output_type": "execute_result"
    }
   ],
   "source": [
    "X_train[0:,4].astype('str')[0]"
   ]
  },
  {
   "cell_type": "code",
   "execution_count": 130,
   "metadata": {},
   "outputs": [
    {
     "name": "stdout",
     "output_type": "stream",
     "text": [
      "['10', '10012', '10019', '10020', '10023', '10027', '10034', '10060', '10066', '10071', '101', '1010', '10121', '10154', '10174', '10180', '10183', '10184', '10188', '10191', '10192', '10200', '10229', '1023', '10230', '10234', '10235', '1024', '10242', '10249', '10267', '10296', '10312', '10341', '10345', '10346', '10347', '10348', '10351', '10353', '10356', '10357', '10358', '10360', '10369', '1037', '10382', '10385', '10393', '10397', '10406', '10418', '10423', '10424', '10451', '10456', '10457', '10458', '10463', '10467', '10469', '1048', '10484', '10500', '10530', '10563', '10567', '1057', '10574', '10590', '10592', '10593', '10595', '106', '1061', '1065', '10698', '1070', '10700', '10701', '1072', '1075', '10757', '10760', '10779', '10834', '10865', '10900', '10902', '10903', '10905', '10915', '1097', '10979', '10990', '11008', '11018', '11087', '11089', '1110', '11103', '11111', '11122', '11140', '11153', '11171', '1119', '11209', '11213', '11216', '11217', '1123', '11232', '11234', '11235', '11298', '11299', '1132', '11326', '11336', '1134', '11346', '11353', '11364', '11374', '11383', '11384', '1140', '11409', '11418', '11423', '11431', '11447', '11461', '11463', '11472', '11473', '11474', '11476', '11479', '11480', '11482', '11483', '11484', '11485', '11486', '11502', '1152', '11569', '11572', '11574', '11578', '11579', '11580', '11597', '11607', '11615', '1162', '11630', '11662', '11663', '11668', '11672', '11677', '11679', '11811', '11827', '11832', '11840', '11874', '11875', '11883', '11887', '11893', '11912', '11930', '11939', '11944', '11945', '11976', '11979', '11984', '11985', '11986', '11987', '11988', '11989', '11992', '11995', '120', '12003', '12004', '12023', '12027', '12028', '12030', '12053', '12077', '12085', '12088', '12099', '12150', '12158', '12166', '12190', '12191', '12193', '12198', '122', '12201', '12207', '12216', '12217', '1222', '12220', '12253', '12255', '12271', '12272', '12273', '12277', '1228', '12287', '12289', '12294', '1232', '1233', '12344', '12347', '12348', '12351', '12354', '12386', '12420', '12436', '12457', '12477', '12495', '12499', '12529', '12533', '12564', '12565', '12570', '1259', '126', '12614', '12618', '12620', '12626', '1263', '12632', '12654', '12676', '127', '12704', '12721', '12725', '12779', '12787', '12802', '12831', '12839', '12844', '12853', '12855', '12858', '12860', '12867', '12878', '12897', '129', '12904', '12911', '12950', '12953', '12964', '12966', '12968', '12974', '13016', '13017', '13021', '13023', '13035', '13052', '13059', '13115', '13141', '13153', '13158', '13198', '13210', '13214', '13215', '13216', '13217', '13218', '13219', '13220', '13221', '13222', '13223', '13224', '13225', '13227', '13228', '13255', '13262', '13279', '1331', '13325', '13326', '13335', '13337', '13346', '13391', '13405', '13415', '13417', '13418', '13424', '13428', '13437', '1344', '13445', '13450', '13451', '13452', '13454', '13455', '13456', '1346', '13466', '13476', '13477', '13478', '13479', '13489', '13492', '13493', '13496', '135', '13517', '13523', '13524', '13526', '13533', '13534', '13535', '13546', '13570', '136', '13625', '13637', '13671', '13690', '13691', '137', '13720', '13729', '13732', '1374', '13743', '13753', '13767', '138', '13826', '13830', '13831', '13835', '13889', '13890', '139', '13904', '13910', '13913', '13919', '13937', '13940', '1395', '13966', '13978', '13981', '13985', '13994', '13995', '13996', '13997', '140', '14000', '14010', '14014', '14018', '14023', '14024', '14026', '14029', '14044', '14045', '14046', '14047', '14048', '14093', '14098', '14100', '14104', '14123', '14124', '14125', '14126', '14130', '14132', '14137', '14152', '14155', '14160', '14164', '14166', '14170', '14186', '14206', '14208', '14209', '14210', '14211', '14212', '14213', '14214', '14215', '14216', '14217', '1423', '1425', '14261', '14281', '14294', '14296', '14297', '143', '14307', '14320', '1433', '14343', '14348', '14349', '14363', '14373', '14409', '14410', '14419', '14456', '14476', '14486', '14511', '14515', '14528', '14543', '14544', '14551', '14555', '14558', '14561', '14565', '14571', '14584', '14588', '14591', '14594', '14609', '14615', '14634', '1464', '14642', '14646', '14661', '14668', '14670', '14691', '14695', '14721', '14727', '14734', '14740', '14774', '14775', '14783', '14795', '14814', '14834', '14843', '14850', '149', '14900', '14930', '14950', '14953', '14958', '14981', '14983', '14984', '14985', '14987', '14991', '14992', '14993', '14995', '14996', '14998', '150', '15012', '15021', '15024', '15036', '15106', '15107', '15109', '15114', '15115', '15116', '15118', '15119', '15120', '15121', '15122', '15123', '15124', '15125', '15127', '15129', '15135', '1516', '15196', '152', '15212', '15214', '15216', '15217', '15220', '15241', '15242', '15248', '15249', '15255', '15256', '15261', '15289', '153', '15300', '15307', '15310', '15323', '15391', '15393', '15412', '15433', '15460', '15469', '15484', '15494', '15495', '15496', '15497', '15498', '155', '15500', '15501', '15504', '15508', '15536', '15547', '156', '15601', '15694', '15697', '15701', '15717', '15760', '15761', '15763', '15770', '15839', '15841', '15865', '15885', '15891', '15918', '15936', '15939', '15985', '15989', '15990', '16025', '16027', '16031', '16045', '16066', '16067', '1615', '16162', '16167', '16169', '16170', '16171', '16174', '16178', '16183', '16194', '162', '16205', '16207', '1622', '16234', '16239', '16246', '16247', '16248', '16249', '1625', '16267', '16270', '16276', '163', '16340', '16362', '16366', '16378', '16402', '16465', '16470', '16512', '16526', '16527', '16532', '1655', '16583', '16586', '16597', '16606', '16611', '16616', '16622', '16625', '16627', '16630', '16660', '16670', '16673', '16682', '16684', '16689', '16692', '16715', '16727', '16732', '16743', '16748', '16761', '16763', '168', '16823', '16824', '16842', '16843', '16849', '16852', '16856', '16870', '16873', '16874', '16875', '16876', '16884', '16885', '16893', '16894', '16956', '16957', '16982', '16986', '16987', '16989', '16993', '16994', '170', '17006', '17014', '17022', '17023', '17024', '17039', '17040', '17044', '17053', '17055', '17057', '17076', '17080', '1710', '17120', '17123', '17124', '17125', '17128', '17134', '17136', '17145', '17171', '17172', '17179', '17198', '17227', '17233', '17235', '17237', '17238', '17239', '17247', '17253', '17278', '17285', '1729', '17293', '17332', '17341', '17344', '17349', '17350', '17351', '17353', '17361', '17362', '17369', '17370', '17413', '17421', '17425', '17448', '17496', '17524', '17534', '17545', '17549', '1757', '17575', '17597', '1762', '17630', '1764', '1767', '17691', '17695', '17697', '17698', '177', '17701', '17704', '1771', '17735', '1774', '17757', '17758', '17769', '17780', '17784', '17790', '17819', '1783', '17843', '17853', '1786', '17860', '17879', '17883', '17885', '17892', '17898', '17907', '17910', '17927', '17938', '1796', '17965', '17977', '17984', '17997', '18000', '18008', '18022', '18023', '18025', '18027', '18030', '18063', '1810', '18136', '18153', '18156', '18163', '18167', '1818', '1819', '18191', '18195', '1821', '1824', '18244', '18248', '18269', '18272', '18276', '18278', '18286', '18289', '1832', '1834', '1835', '1836', '1837', '1838', '18387', '1839', '18401', '18403', '18405', '18408', '18433', '1844', '18485', '18523', '18538', '18569', '18573', '18574', '18584', '18587', '18589', '18590', '18592', '18597', '1860', '1864', '18641', '18649', '18661', '18665', '18673', '18680', '18706', '18725', '18730', '18732', '18736', '18737', '18738', '18747', '18754', '18755', '18761', '18766', '18767', '18772', '18775', '1878', '18780', '18801', '18802', '18808', '18810', '18816', '18817', '1882', '18823', '18831', '18834', '18838', '18841', '18846', '18847', '1885', '18870', '18872', '18873', '18876', '18877', '18878', '18879', '18880', '18881', '18884', '18885', '18921', '18947', '18948', '18953', '18988', '190', '19010', '19011', '19012', '19014', '19015', '19024', '19030', '19031', '19034', '19045', '19050', '19056', '19057', '19058', '19059', '19064', '1907', '19071', '19091', '19092', '19096', '19102', '19104', '19109', '1911', '19115', '19120', '19124', '19125', '1916', '19164', '1917', '19172', '19174', '19183', '19188', '19189', '19198', '19200', '19201', '19211', '19213', '19219', '1922', '19258', '19259', '19260', '19264', '19268', '19279', '19283', '19287', '1929', '19291', '19302', '19336', '19345', '19346', '19357', '19358', '19359', '19361', '19362', '19364', '19365', '19367', '19369', '19370', '19371', '19372', '19374', '19375', '19377', '19378', '19379', '19381', '19382', '19389', '1939', '19390', '19392', '19406', '19411', '19425', '19427', '19432', '19436', '19438', '19443', '19448', '19451', '19452', '19453', '19459', '19461', '19470', '19472', '19475', '19480', '19495', '19496', '19497', '19498', '1953', '19535', '19607', '19671', '19677', '19679', '19685', '19691', '19692', '19696', '19710', '19712', '19714', '19720', '19740', '19741', '19742', '19755', '1977', '19770', '19777', '19778', '19779', '19781', '19782', '19799', '19803', '19810', '19815', '19822', '19836', '19841', '19842', '19888', '19890', '19892', '199', '19908', '19909', '19916', '19918', '19948', '19996', '200', '20000', '20001', '20002', '20004', '20006', '20009', '20019', '20023', '20041', '20043', '2005', '20059', '20061', '2007', '2008', '20083', '20084', '20107', '20108', '2011', '20112', '20114', '2013', '20130', '20131', '20146', '20153', '20156', '20157', '2017', '20182', '20197', '20203', '20204', '20205', '20208', '20273', '20274', '20289', '20292', '20304', '20308', '20310', '20315', '20325', '20327', '20335', '20359', '20367', '20370', '20377', '20379', '20387', '20390', '20391', '20418', '20421', '20435', '20441', '20445', '20452', '20475', '20481', '20487', '20488', '20503', '20504', '20515', '20519', '20521', '20544', '20585', '20589', '20635', '20648', '20653', '20655', '20658', '20659', '20678', '20688', '20691', '20693', '20697', '20702', '20706', '20707', '20709', '20733', '20739', '20760', '20763', '20779', '20782', '2079', '20808', '20809', '20810', '20820', '20823', '20826', '20860', '20864', '20865', '20869', '20902', '20913', '20941', '20955', '20968', '20971', '20977', '20985', '20987', '20992', '20995', '20999', '21001', '21002', '21005', '21006', '21014', '21015', '21016', '21020', '21027', '21033', '21035', '21046', '21060', '21061', '21068', '21070', '21071', '21076', '21077', '21078', '21081', '21084', '21089', '21090', '21093', '21100', '21105', '21106', '21107', '21113', '21114', '21124', '21127', '21128', '21147', '21151', '21153', '21155', '21157', '21203', '21255', '21266', '21268', '21287', '21291', '21296', '21297', '21299', '21300', '21316', '2133', '21345', '21360', '21362', '21393', '21394', '21399', '21420', '21421', '21423', '21456', '21462', '21464', '21476', '21484', '21491', '21497', '215', '21503', '21509', '21510', '21524', '2153', '21533', '21535', '21538', '21539', '21540', '21568', '21578', '21581', '21587', '21597', '21598', '21616', '21619', '21620', '21628', '21634', '21644', '21648', '21655', '21691', '21699', '21701', '21705', '21707', '21714', '21725', '21754', '2176', '21772', '21798', '21803', '21806', '2181', '21812', '21814', '21843', '21844', '21858', '21863', '21867', '21886', '21888', '21934', '21937', '21940', '21941', '21947', '21957', '21958', '22001', '22006', '22007', '22010', '22014', '22017', '22020', '22027', '22050', '22055', '22090', '22091', '221', '22114', '22127', '22128', '2214', '22152', '22156', '22158', '22159', '22176', '22177', '22178', '22184', '22193', '222', '22207', '22211', '22212', '22213', '22216', '22217', '22220', '22221', '22222', '22223', '22229', '22231', '22233', '22239', '22240', '22312', '22313', '22355', '22370', '22381', '22388', '22389', '22395', '2240', '22400', '22405', '22409', '22428', '22429', '2243', '22430', '22431', '2244', '22467', '2247', '22477', '2249', '22491', '22492', '2252', '22523', '22533', '22535', '22538', '2254', '22551', '22552', '22568', '22573', '22584', '22586', '22591', '22602', '22667', '22672', '22678', '22679', '2268', '22680', '22682', '22683', '22684', '22685', '22686', '22688', '22765', '22772', '22774', '22780', '22790', '22795', '22809', '2283', '22963', '22981', '22984', '22985', '22990', '22994', '23004', '2308', '23102', '23106', '23111', '23113', '23114', '23115', '23116', '2312', '2313', '23144', '23145', '23151', '23152', '23195', '23197', '23198', '23200', '23203', '23208', '23212', '23219', '23246', '23258', '23260', '23292', '23325', '23348', '23349', '2339', '23407', '23411', '2343', '23485', '235', '23527', '23531', '23539', '23544', '23551', '23553', '23586', '23596', '23601', '23604', '23605', '23647', '23648', '23670', '23674', '23676', '2368', '23687', '23707', '23711', '23714', '23748', '23880', '239', '23946', '240', '24081', '24088', '242', '24202', '24208', '24223', '2423', '24252', '2430', '2474', '249', '2490', '2491', '253', '2532', '2572', '2575', '2580', '2583', '259', '2629', '2630', '2631', '269', '271', '272', '2735', '2752', '278', '279', '2795', '281', '288', '2880', '2881', '2882', '2886', '2888', '2904', '2906', '2908', '2912', '2915', '2919', '2920', '2968', '3007', '3019', '304', '305', '306', '3070', '308', '3089', '3093', '3094', '312', '3131', '3135', '3139', '314', '3140', '3149', '315', '3151', '3168', '3171', '3195', '3200', '3203', '3216', '3217', '3222', '3225', '3226', '3227', '3228', '3229', '3230', '3231', '3246', '329', '330', '3301', '3307', '3308', '3318', '334', '3343', '3346', '3350', '3374', '3378', '3379', '3384', '3420', '3426', '3475', '348', '3530', '354', '355', '3578', '3586', '3591', '3593', '3594', '3604', '3635', '3644', '3652', '3656', '3676', '3683', '3699', '3702', '3703', '3717', '3734', '3736', '3738', '3766', '3770', '3771', '3773', '3841', '3844', '3845', '389', '390', '3924', '3936', '3949', '3950', '3951', '3959', '3966', '3967', '3981', '3985', '4035', '4053', '4069', '4070', '4072', '4092', '411', '4114', '4120', '4126', '4140', '417', '4193', '42', '4202', '4220', '4221', '425', '4271', '4286', '4288', '4331', '4334', '4349', '4365', '4368', '4373', '4387', '4421', '4427', '4448', '4450', '4454', '4455', '447', '4488', '4495', '453', '458', '4621', '4632', '4634', '4646', '4649', '4656', '474', '4743', '4750', '4779', '4794', '4799', '4804', '4879', '4917', '4925', '4965', '4967', '4998', '50', '5103', '5104', '5131', '5144', '5147', '5152', '5202', '5203', '5207', '5209', '5214', '5265', '5276', '5282', '5283', '5300', '5303', '5309', '5334', '538', '54', '5436', '544', '5443', '5450', '5470', '548', '5515', '5520', '5553', '5556', '5574', '559', '5594', '5597', '5637', '5638', '5639', '5640', '5643', '5644', '5653', '5673', '5674', '5709', '5730', '5731', '575', '5784', '5789', '5790', '5798', '5804', '5828', '5844', '5845', '5846', '5847', '5881', '5901', '5905', '5911', '5978', '5994', '6035', '6037', '6044', '6045', '6048', '6054', '6060', '6074', '6075', '6087', '6088', '6093', '610', '6104', '6107', '618', '6196', '6225', '6234', '6243', '6251', '6274', '6301', '6307', '6337', '6343', '6344', '6345', '6348', '6350', '639', '6416', '6422', '6440', '6441', '6446', '6447', '6484', '6494', '6506', '651', '6526', '6543', '6546', '6548', '6549', '6550', '6554', '6564', '6593', '66', '661', '6640', '6641', '6643', '668', '6739', '6742', '6747', '6752', '6758', '6774', '6809', '6877', '6880', '6890', '6891', '6926', '6933', '6957', '6969', '6972', '6978', '698', '7009', '7010', '7011', '7014', '7016', '7017', '7050', '7059', '706', '7073', '7099', '7111', '7125', '7135', '7168', '7169', '7170', '7171', '7173', '7198', '7201', '7211', '7217', '7270', '7271', '7272', '7276', '728', '7290', '7295', '7296', '7300', '7305', '7330', '7337', '7340', '7357', '7368', '7371', '7391', '7398', '7399', '7401', '7405', '7407', '7409', '7410', '7413', '7414', '7417', '7425', '7444', '7458', '7473', '7486', '7487', '7489', '7491', '7496', '7498', '7499', '7501', '7503', '7507', '7518', '7546', '7550', '7561', '7562', '7582', '7587', '7595', '7661', '7678', '7688', '77', '7727', '7778', '7797', '7800', '7875', '7916', '7920', '7949', '7972', '7974', '7975', '7976', '7991', '80', '8008', '8014', '8018', '8021', '803', '8064', '8065', '8066', '8088', '8094', '8098', '81', '8100', '8109', '8118', '8154', '8166', '8178', '823', '8247', '8253', '8255', '8257', '826', '8266', '8268', '8269', '833', '834', '8343', '8367', '8375', '8376', '8391', '8392', '84', '8403', '8422', '8428', '844', '846', '8466', '8467', '8472', '8506', '851', '8516', '853', '8536', '8538', '8542', '855', '8616', '8619', '8626', '8657', '8664', '8665', '8666', '8667', '868', '8681', '8688', '8691', '8693', '8694', '8704', '8706', '8722', '8728', '8729', '8732', '876', '8781', '8784', '8809', '8872', '8873', '8880', '8889', '889', '8894', '8895', '8959', '8964', '8965', '8972', '9000', '9018', '9034', '9061', '9067', '9068', '91', '911', '9123', '9156', '9160', '9162', '9165', '9169', '9170', '9172', '9180', '9191', '921', '9224', '9237', '9264', '9278', '9279', '9288', '9289', '9291', '9294', '932', '9336', '9344', '9348', '9367', '9380', '9395', '9402', '9403', '9409', '9417', '9448', '9454', '9456', '9462', '9472', '95', '9500', '9526', '9527', '9529', '9538', '9557', '9560', '9564', '9568', '9573', '9576', '9613', '9623', '9627', '9628', '9629', '9636', '9651', '9680', '9713', '9765', '9784', '9785', '9787', '9809', '9814', '9820', '9843', '9845', '9856', '9884', '9890', '9900', '9916', '9933', '9934', '9935', '9938', '9939', '9940', '9944', '9945', '9946', '9947', '9948', '9954', '9957', '9974', '9985', '9990', '9991', '9994']\n",
      "Shape of matrix after one hot encoding  (6397, 2062)\n",
      "Shape of matrix after one hot encoding  (1600, 2062)\n"
     ]
    }
   ],
   "source": [
    "from sklearn.feature_extraction.text import CountVectorizer\n",
    "vectorizer = CountVectorizer(lowercase=False, binary=True)\n",
    "vectorizer.fit(X_train[0:,4].astype('str'))\n",
    "print(vectorizer.get_feature_names()) #name of each feature\n",
    "\n",
    "\n",
    "X_train_Artist_ID_one_hot = vectorizer.transform(X_train[0:,4].astype('str')).todense()\n",
    "X_test_Artist_ID_one_hot = vectorizer.transform(X_test[0:,4].astype('str')).todense()\n",
    "print(\"Shape of matrix after one hot encoding \",X_train_Artist_ID_one_hot.shape)\n",
    "print(\"Shape of matrix after one hot encoding \",X_test_Artist_ID_one_hot.shape)"
   ]
  },
  {
   "cell_type": "markdown",
   "metadata": {},
   "source": [
    "#### Genres_all:"
   ]
  },
  {
   "cell_type": "code",
   "execution_count": 117,
   "metadata": {},
   "outputs": [
    {
     "data": {
      "text/plain": [
       "'[18, 1235]'"
      ]
     },
     "execution_count": 117,
     "metadata": {},
     "output_type": "execute_result"
    }
   ],
   "source": [
    "X_train[1,9]"
   ]
  },
  {
   "cell_type": "code",
   "execution_count": 131,
   "metadata": {},
   "outputs": [
    {
     "name": "stdout",
     "output_type": "stream",
     "text": [
      "['10', '100', '101', '102', '103', '1032', '1060', '107', '109', '111', '113', '117', '118', '1193', '12', '1235', '125', '130', '15', '16', '167', '17', '171', '172', '174', '177', '18', '180', '181', '182', '183', '184', '185', '186', '21', '214', '22', '224', '232', '236', '240', '247', '25', '250', '26', '267', '27', '286', '296', '297', '30', '31', '314', '32', '33', '337', '359', '36', '360', '361', '362', '38', '400', '401', '404', '41', '42', '439', '440', '45', '456', '46', '468', '47', '49', '491', '495', '502', '504', '514', '524', '53', '538', '539', '542', '58', '580', '602', '619', '64', '66', '695', '70', '71', '741', '76', '763', '77', '79', '808', '81', '811', '83', '85', '86', '88', '89', '90', '92', '94', '98']\n",
      "Shape of matrix after one hot encoding  (6397, 111)\n",
      "Shape of matrix after one hot encoding  (1600, 111)\n"
     ]
    }
   ],
   "source": [
    "from sklearn.feature_extraction.text import CountVectorizer\n",
    "vectorizer = CountVectorizer(lowercase=False, binary=True)\n",
    "vectorizer.fit(X_train[0:,9])\n",
    "print(vectorizer.get_feature_names()) #name of each feature\n",
    "\n",
    "\n",
    "X_train_Genres_all_one_hot = vectorizer.transform(X_train[0:,9]).todense()\n",
    "X_test_Genres_all_one_hot = vectorizer.transform(X_test[0:,9]).todense()\n",
    "print(\"Shape of matrix after one hot encoding \",X_train_Genres_all_one_hot.shape)\n",
    "print(\"Shape of matrix after one hot encoding \",X_test_Genres_all_one_hot.shape)"
   ]
  },
  {
   "cell_type": "markdown",
   "metadata": {},
   "source": [
    "#### Language:"
   ]
  },
  {
   "cell_type": "code",
   "execution_count": 125,
   "metadata": {},
   "outputs": [],
   "source": [
    "# .astype('str') #NaN replaced by -1(integer) should be converted to string"
   ]
  },
  {
   "cell_type": "code",
   "execution_count": 132,
   "metadata": {},
   "outputs": [
    {
     "name": "stdout",
     "output_type": "stream",
     "text": [
      "['ar', 'bg', 'cs', 'de', 'el', 'en', 'es', 'fr', 'it', 'pt', 'ru', 'sw', 'tr']\n",
      "Shape of matrix after one hot encoding  (6397, 111)\n",
      "Shape of matrix after one hot encoding  (1600, 111)\n"
     ]
    }
   ],
   "source": [
    "from sklearn.feature_extraction.text import CountVectorizer\n",
    "vectorizer = CountVectorizer(lowercase=False, binary=True)\n",
    "vectorizer.fit(X_train[0:,10].astype('str'))\n",
    "print(vectorizer.get_feature_names()) #name of each feature \n",
    "\n",
    "\n",
    "X_train_Language_one_hot = vectorizer.transform(X_train[0:,10].astype('str')).todense()\n",
    "X_test_Language_one_hot = vectorizer.transform(X_test[0:,10].astype('str')).todense()\n",
    "print(\"Shape of matrix after one hot encoding \",X_train_Genres_all_one_hot.shape) #change to \"X_train_Language_one_hot\"\n",
    "print(\"Shape of matrix after one hot encoding \",X_test_Genres_all_one_hot.shape)  #change to \"X_test_Language_one_hot\""
   ]
  },
  {
   "cell_type": "code",
   "execution_count": 141,
   "metadata": {},
   "outputs": [
    {
     "data": {
      "text/plain": [
       "Counter({'-1': 5599,\n",
       "         'en': 739,\n",
       "         'fr': 8,\n",
       "         'bg': 6,\n",
       "         'es': 17,\n",
       "         'sw': 4,\n",
       "         'el': 2,\n",
       "         'tr': 2,\n",
       "         'it': 1,\n",
       "         'ru': 8,\n",
       "         'pt': 5,\n",
       "         'de': 4,\n",
       "         'ar': 1,\n",
       "         'cs': 1})"
      ]
     },
     "execution_count": 141,
     "metadata": {},
     "output_type": "execute_result"
    }
   ],
   "source": [
    "#language info is not available for many audios\n",
    "Counter(X_train[0:,10].astype('str'))"
   ]
  },
  {
   "cell_type": "code",
   "execution_count": 133,
   "metadata": {},
   "outputs": [
    {
     "data": {
      "text/plain": [
       "matrix([[0, 0, 0, 0, 0, 0, 0, 0, 0, 0, 0, 0, 0]])"
      ]
     },
     "execution_count": 133,
     "metadata": {},
     "output_type": "execute_result"
    }
   ],
   "source": [
    "#zero vector = -1 or unknown language\n",
    "X_train_Language_one_hot[0:1]"
   ]
  },
  {
   "cell_type": "markdown",
   "metadata": {},
   "source": [
    "#### Title:"
   ]
  },
  {
   "cell_type": "markdown",
   "metadata": {},
   "source": [
    "##### Glove:\n",
    "Jeffrey Pennington, Richard Socher, and Christopher D. Manning. 2014. GloVe: Global Vectors for Word Representation.\n",
    "[ https://nlp.stanford.edu/pubs/glove.pdf ] [ https://nlp.stanford.edu/pubs/glove.bib ]"
   ]
  },
  {
   "cell_type": "code",
   "execution_count": 144,
   "metadata": {},
   "outputs": [],
   "source": [
    "#Each line in glove text file contains word followed by space followed by its 300 dimensional vector representation.\n",
    "#https://medium.com/analytics-vidhya/basics-of-using-pre-trained-glove-vectors-in-python-d38905f356db\n",
    "with open('glove.840B.300d.txt','r') as file:\n",
    "    glove_features={}\n",
    "    for line in file:\n",
    "        content=line.split(' ')\n",
    "        word=content[0]\n",
    "        glove_features[word]=np.asarray(content[1:], \"float32\")"
   ]
  },
  {
   "cell_type": "code",
   "execution_count": 145,
   "metadata": {},
   "outputs": [
    {
     "data": {
      "text/plain": [
       "array([-4.3512e-01,  2.8351e-02,  4.9110e-01, -3.5168e-01, -1.1578e-01,\n",
       "        1.0369e+00, -9.7550e-02,  8.6624e-02, -1.7890e-01,  2.4555e+00,\n",
       "       -1.2798e+00,  2.1074e-02, -3.2250e-02,  9.4673e-02, -1.4000e-01,\n",
       "       -5.2143e-01,  6.6447e-04,  1.8051e+00, -2.2604e-01,  3.3227e-01,\n",
       "        4.1163e-04,  6.2654e-02,  1.4973e-01, -5.0260e-01,  8.9701e-02,\n",
       "       -2.6908e-01, -8.3594e-02, -1.6677e-01, -1.7036e-01, -3.2049e-01,\n",
       "       -2.3586e-01, -4.0395e-01,  3.2683e-01, -2.1712e-01,  9.8576e-02,\n",
       "        4.7552e-01,  9.2994e-02, -6.1034e-02,  1.2673e-01,  6.0856e-01,\n",
       "       -6.7936e-03, -2.1831e-01,  2.1751e-02, -2.4858e-01, -3.5244e-02,\n",
       "        1.3692e-01, -3.7109e-01,  5.4421e-01,  4.0017e-02,  1.3992e-01,\n",
       "        3.9967e-02, -3.1745e-01,  2.4408e-01, -2.3550e-01,  2.4884e-01,\n",
       "       -3.1929e-01,  1.1282e-01, -1.0198e-02, -5.0538e-02, -1.1550e-01,\n",
       "        3.0273e-01, -6.1441e-01,  1.6135e-02,  1.0675e-02,  1.5108e-01,\n",
       "       -1.1759e+00,  9.7104e-02,  7.1706e-02,  1.9795e-01,  2.7253e-01,\n",
       "       -2.2122e-01,  6.4478e-01, -6.6252e-02, -2.9403e-01,  1.6281e-01,\n",
       "       -7.8554e-03, -1.4986e-01, -1.1364e-01,  3.6459e-01,  1.3723e-01,\n",
       "        4.6612e-01,  2.6157e-01,  6.5022e-03, -6.7068e-01, -7.5247e-02,\n",
       "       -5.0802e-01, -4.9202e-02,  9.0222e-01, -3.0085e-01,  1.5453e-01,\n",
       "       -4.4762e-01, -3.0997e-01, -1.4006e-01, -4.8079e-01,  7.8380e-02,\n",
       "       -2.0951e-01, -7.5580e-02, -3.7064e-01,  4.8714e-01, -3.1549e-01,\n",
       "       -5.1954e-01, -2.3939e-01, -6.6667e-02,  1.8613e-01, -2.2506e-03,\n",
       "       -1.1914e+00,  8.8962e-01,  7.7849e-02, -2.8469e-02, -2.0316e-01,\n",
       "        1.6630e-01, -5.1348e-01, -5.5870e-01, -2.3375e-01, -5.3809e-02,\n",
       "       -2.2482e-01, -1.6111e-01, -5.5308e-02,  2.5306e-01, -2.6012e-01,\n",
       "       -4.4041e-01,  4.5938e-01,  2.0860e-01, -3.7273e-01,  1.8066e-01,\n",
       "       -6.8302e-01,  6.0740e-01, -4.3613e-01,  2.1322e-01,  8.0519e-02,\n",
       "        2.3692e-01, -8.2568e-01,  6.0825e-01,  2.8487e-01, -2.1523e-01,\n",
       "       -2.5527e-01, -2.5360e-02, -2.0474e-01,  1.7836e-01, -4.6982e-01,\n",
       "       -1.5028e+00, -1.3935e-01,  6.3359e-01,  7.7543e-02,  2.3253e-01,\n",
       "       -9.4550e-01, -3.1292e-01,  1.8680e-01, -1.5495e-01,  4.4739e-02,\n",
       "        3.9165e-02,  2.5441e-01,  3.3170e-01, -7.2885e-02,  2.6937e-01,\n",
       "       -4.6139e-01,  6.7444e-01,  4.0953e-02,  1.7357e-01,  2.4625e-01,\n",
       "        1.1436e-01, -1.9437e-02,  8.4576e-02, -2.5671e-01, -1.9088e-01,\n",
       "       -9.7901e-03,  4.0670e-01, -5.2662e-01,  3.3074e-01, -1.6063e-02,\n",
       "        5.0736e-01, -7.8741e-02, -1.0957e-01, -1.6075e-01, -5.7401e-01,\n",
       "        3.2421e-01,  2.6512e-01,  2.2437e-01,  1.6800e-01,  8.3381e-03,\n",
       "        2.9091e-01, -8.5310e-01, -1.0966e-01,  1.2598e-02,  1.9428e-01,\n",
       "       -3.4592e-01,  1.5497e-01,  1.1221e-01, -1.9593e-02, -5.1683e-01,\n",
       "       -2.7562e-01, -2.9003e-01, -2.9849e-01, -7.4871e-01, -4.3796e-01,\n",
       "        5.3964e-01,  2.5437e-01,  4.3718e-01,  5.6013e-01, -2.4569e-01,\n",
       "       -2.6945e-02,  3.5646e-01,  1.5037e-01,  1.0629e-01,  3.1965e-01,\n",
       "        3.5652e-01,  2.9006e-02,  8.3085e-01,  7.8779e-01, -5.8642e-01,\n",
       "       -7.8122e-02,  1.9765e-01, -1.4726e-01, -1.3157e-01, -6.8822e-02,\n",
       "       -3.0101e-01,  3.2966e-01, -1.9465e-01, -1.5736e-01,  1.6771e-01,\n",
       "       -3.9267e-01,  3.1687e-01,  8.0543e-02, -2.1005e-02, -2.8093e-02,\n",
       "       -8.6245e-03, -1.1506e-01,  7.8586e-02, -4.3331e-01,  1.5771e-01,\n",
       "       -3.0605e-01, -3.2882e-01,  1.8208e-01, -3.9534e-01,  3.3031e-01,\n",
       "       -9.9457e-02, -1.6041e-01,  5.7775e-02,  2.0208e-01, -3.8080e-01,\n",
       "       -2.3455e-01, -2.5349e-02, -2.3527e-01, -8.1126e-02,  3.5611e-02,\n",
       "        5.6273e-01, -9.6986e-02, -3.8146e-01, -6.2962e-01, -2.0775e-01,\n",
       "        5.5430e-02,  4.4946e-01, -2.7455e-01, -1.1277e-01,  3.1322e-01,\n",
       "        7.1544e-01,  2.2552e-02,  7.8300e-02, -2.5574e-01, -2.3078e-01,\n",
       "       -7.6146e-01, -1.3497e-01, -4.7400e-01, -1.1224e-01,  1.1929e-01,\n",
       "        4.5973e-01, -2.1328e-01, -3.9544e-02, -1.1253e-01, -6.0995e-02,\n",
       "       -5.2906e-01,  1.8361e-01,  5.9157e-02, -3.1468e-01,  1.0018e-01,\n",
       "        4.3707e-01, -6.4725e-02,  5.0211e-01,  2.9269e-01,  8.5720e-01,\n",
       "       -2.2293e-01,  1.1703e-01, -3.6008e-02, -3.0947e-01, -6.9151e-02,\n",
       "        4.3019e-01,  6.7241e-01, -8.3894e-02, -2.7710e-01,  1.4450e-01,\n",
       "        2.6701e-01,  3.2489e-01, -7.7239e-02,  7.8217e-02, -2.8737e-01,\n",
       "        3.0253e-01,  2.1972e-01, -4.7151e-01,  4.3010e-01,  3.6573e-01],\n",
       "      dtype=float32)"
      ]
     },
     "execution_count": 145,
     "metadata": {},
     "output_type": "execute_result"
    }
   ],
   "source": [
    "glove_features['food']"
   ]
  },
  {
   "cell_type": "code",
   "execution_count": 149,
   "metadata": {},
   "outputs": [
    {
     "data": {
      "text/plain": [
       "'Life Slow Down (Instrumental)'"
      ]
     },
     "execution_count": 149,
     "metadata": {},
     "output_type": "execute_result"
    }
   ],
   "source": [
    "X_train[7,12]"
   ]
  },
  {
   "cell_type": "code",
   "execution_count": 154,
   "metadata": {},
   "outputs": [
    {
     "data": {
      "text/plain": [
       "True"
      ]
     },
     "execution_count": 154,
     "metadata": {},
     "output_type": "execute_result"
    }
   ],
   "source": [
    "'food' in glove_features"
   ]
  },
  {
   "cell_type": "code",
   "execution_count": 150,
   "metadata": {},
   "outputs": [
    {
     "data": {
      "text/plain": [
       "['Life', 'Slow', 'Down', 'Instrumental']"
      ]
     },
     "execution_count": 150,
     "metadata": {},
     "output_type": "execute_result"
    }
   ],
   "source": [
    "X_train[7,12].replace('(','').replace(')','').split()"
   ]
  },
  {
   "cell_type": "code",
   "execution_count": 156,
   "metadata": {},
   "outputs": [],
   "source": [
    "train_title_glove=np.zeros((6397,300))\n",
    "for index,title in enumerate(X_train[0:,12]):\n",
    "    avg_vector=np.zeros((300))\n",
    "    title=title.replace('(','').replace(')','').split()\n",
    "    for word in title:\n",
    "        if word in glove_features:\n",
    "            avg_vector+=glove_features[word]\n",
    "    train_title_glove[index]=avg_vector/len(title) "
   ]
  },
  {
   "cell_type": "code",
   "execution_count": 157,
   "metadata": {},
   "outputs": [
    {
     "data": {
      "text/plain": [
       "array([-0.15846001,  0.0029458 , -0.57832998, -0.14967   , -0.18295   ,\n",
       "        0.32495001,  0.068236  , -0.76775998, -0.066137  , -0.28459001,\n",
       "        0.21624   ,  0.21647   ,  0.10988   , -0.18961   ,  0.2052    ,\n",
       "        0.23062   ,  0.45335001, -1.27569997,  0.089051  ,  0.38407001,\n",
       "       -0.094579  , -0.016535  ,  0.16671   , -0.35385001,  0.2559    ,\n",
       "       -0.34709999,  0.40933001, -0.16693   ,  0.012353  ,  0.077272  ,\n",
       "       -0.25850999,  0.23019999, -0.16410001, -0.018744  , -0.19524001,\n",
       "        0.30744001,  0.01088   ,  0.30028   ,  0.085034  ,  0.39337   ,\n",
       "        0.34549001, -0.28775001, -0.13911   , -0.29657999, -0.027575  ,\n",
       "       -0.1311    , -0.19396   ,  0.022425  ,  0.020848  ,  0.23896   ,\n",
       "        0.70884001,  0.15659   ,  0.10012   ,  0.24815001,  0.0018455 ,\n",
       "       -0.30840999,  0.27124   , -0.10627   , -0.091606  ,  0.17708001,\n",
       "       -0.11914   , -0.11922   ,  0.50708002, -0.0294    , -0.54628003,\n",
       "        0.0054152 , -0.25314999, -0.32517999,  0.35095999,  0.25911999,\n",
       "        0.28898001, -0.58349001,  0.017956  , -0.22652   ,  0.15227   ,\n",
       "        0.078236  ,  0.45249   ,  0.084503  ,  0.043478  ,  0.067473  ,\n",
       "       -0.49391001, -0.0024924 , -0.53820997,  0.35332   , -0.005881  ,\n",
       "       -0.080248  ,  1.05149996, -0.90445   ,  0.1106    ,  0.34073001,\n",
       "       -0.13201   , -0.060285  ,  0.01185   ,  0.19984999,  0.03144   ,\n",
       "        0.27133   , -0.11343   , -0.36765   , -0.2561    , -0.093379  ,\n",
       "       -0.24442001, -0.023069  ,  0.27858999, -0.066714  ,  0.52015001,\n",
       "       -0.11964   ,  0.17191   , -0.45311999, -0.031902  ,  0.14004999,\n",
       "        0.12678   ,  0.091773  , -0.20795   ,  0.11113   , -0.18195   ,\n",
       "        0.43893   , -0.35088   , -0.71543002, -0.42866999, -0.10061   ,\n",
       "        0.24224   , -0.29455999, -0.1603    ,  0.16587999,  0.11273   ,\n",
       "       -0.050948  ,  0.0097032 ,  0.10348   ,  0.10968   , -0.077041  ,\n",
       "       -0.21571   , -0.45166001,  0.10408   ,  0.30972001, -0.28051001,\n",
       "        0.22916999, -0.10779   ,  0.04898   , -0.23097999,  0.35236999,\n",
       "       -0.59116   ,  0.33403999, -0.15057001, -0.0048006 , -0.28061   ,\n",
       "        0.22655   , -0.41657999,  0.12795   , -0.55124998,  0.22071999,\n",
       "       -0.26598999,  0.2669    , -0.41282001,  0.0067433 ,  0.6943    ,\n",
       "        0.082779  ,  0.76749998, -0.29692999,  0.19236   , -0.5715    ,\n",
       "       -0.089961  ,  0.15515   , -0.26111001,  0.0069266 ,  0.044048  ,\n",
       "       -0.038896  , -0.38867   ,  0.19035999, -0.22661   ,  0.46743   ,\n",
       "       -0.38374999,  0.0108    , -0.18771   , -0.47389001, -0.012646  ,\n",
       "       -0.17982   ,  0.21606   , -0.39912   ,  0.072098  , -0.34761   ,\n",
       "       -0.35038   , -0.68537003,  0.0084006 , -0.26385999,  0.25582001,\n",
       "       -0.077201  , -0.0066023 ,  0.12521   ,  0.23935001,  0.24186   ,\n",
       "        0.25044   , -0.12744001, -0.050422  , -0.11143   ,  0.11584   ,\n",
       "       -0.35653999, -0.16147   , -0.23018   ,  0.39487001,  0.020705  ,\n",
       "       -0.53552002, -0.24776   , -0.40814999, -0.12782   ,  0.12808   ,\n",
       "       -0.14366999,  0.38192001,  0.028782  ,  0.12482   , -0.19266   ,\n",
       "       -0.60653001, -0.34143999,  0.22391   , -0.013704  ,  0.30261001,\n",
       "       -0.27179   , -0.0737    , -0.10224   , -0.030019  , -0.14658999,\n",
       "       -0.068833  ,  0.32878   ,  0.085291  ,  0.13392   ,  0.19963001,\n",
       "        0.17411999, -0.022784  ,  0.23091   , -0.28391001, -0.69764   ,\n",
       "        0.37347001,  0.15161   , -0.34529999,  0.012808  , -0.17042001,\n",
       "        0.54280001,  0.27186999, -0.27566001,  0.51687998, -0.031341  ,\n",
       "       -0.23183   , -0.17512   ,  0.32731   , -0.13209   , -0.23402999,\n",
       "       -0.099993  ,  0.26023999,  0.080107  ,  0.13689999,  0.73115999,\n",
       "       -0.32875001, -0.40529001, -0.19698   , -0.47451001, -0.27669999,\n",
       "       -0.013163  , -0.0057098 , -0.0062103 , -0.56102002,  0.17133   ,\n",
       "       -0.25424001,  0.38652   , -0.14121   , -0.15826   , -0.37828001,\n",
       "       -0.014662  , -0.46136999, -0.049811  ,  0.064133  , -0.19908001,\n",
       "       -0.34371001, -0.060262  , -0.36056   , -0.21728   , -0.16141   ,\n",
       "        0.037428  ,  0.099673  , -0.18589   ,  0.11914   ,  0.03416   ,\n",
       "       -0.1202    , -0.10831   , -0.27263999, -0.72542   , -0.0063672 ,\n",
       "        0.12745   , -0.42438999, -0.1165    ,  0.011508  ,  0.31562999,\n",
       "        0.12702   , -0.031381  , -0.47744   , -0.27028999, -0.13403   ,\n",
       "       -0.36559001,  0.14889   ,  0.042143  , -0.060898  ,  0.20805   ])"
      ]
     },
     "execution_count": 157,
     "metadata": {},
     "output_type": "execute_result"
    }
   ],
   "source": [
    "train_title_glove[0]"
   ]
  },
  {
   "cell_type": "code",
   "execution_count": 160,
   "metadata": {},
   "outputs": [],
   "source": [
    "test_title_glove=np.zeros((1600,300))\n",
    "for index,title in enumerate(X_test[0:,12]):\n",
    "    avg_vector=np.zeros((300))\n",
    "    title=title.replace('(','').replace(')','').split()\n",
    "    for word in title:\n",
    "        if word in glove_features:\n",
    "            avg_vector+=glove_features[word]\n",
    "    test_title_glove[index]=avg_vector/len(title) "
   ]
  },
  {
   "cell_type": "code",
   "execution_count": 161,
   "metadata": {},
   "outputs": [
    {
     "data": {
      "text/plain": [
       "array([ 4.35220003e-01, -5.67849994e-01,  1.32359996e-01, -9.96569991e-01,\n",
       "        3.60540003e-01,  9.33160007e-01, -6.52429983e-02,  2.67690003e-01,\n",
       "       -3.31270009e-01, -8.26219976e-01,  2.39319995e-01, -9.16289985e-02,\n",
       "        5.88580012e-01,  7.91509971e-02, -3.07660013e-01, -2.57600009e-01,\n",
       "       -7.20940009e-02, -1.52269995e+00, -1.10990003e-01,  5.14209986e-01,\n",
       "        1.79580003e-01, -3.40880007e-01,  1.14590004e-02,  6.05669990e-02,\n",
       "        6.84970012e-03,  7.58010000e-02,  7.80089974e-01,  3.62219997e-02,\n",
       "       -2.41500005e-01, -4.05750006e-01, -4.23929989e-01, -1.94440007e-01,\n",
       "       -7.23180012e-04, -2.00660005e-01, -5.35130017e-02, -7.70810023e-02,\n",
       "        2.18930006e-01,  1.87509999e-01,  4.62769985e-01, -1.62780002e-01,\n",
       "       -1.67789996e-01,  3.56220007e-01, -6.63609982e-01, -3.28940004e-01,\n",
       "       -3.10470015e-01, -5.10200024e-01,  1.99190006e-01,  1.15080001e-02,\n",
       "        1.21179998e-01,  6.05779998e-02,  2.00660005e-01,  3.02709997e-01,\n",
       "        1.70990005e-01, -4.50230002e-01,  2.39209995e-01, -1.89219996e-01,\n",
       "       -5.49459994e-01, -1.13339998e-01,  2.89020002e-01, -7.38049969e-02,\n",
       "       -8.53609964e-02,  3.91670018e-02,  6.25060022e-01, -3.77730012e-01,\n",
       "       -8.47400010e-01, -4.15329993e-01, -3.76289994e-01,  3.79610002e-01,\n",
       "        2.37259999e-01, -5.68090022e-01,  1.06660001e-01,  2.07259998e-01,\n",
       "       -1.58329993e-01,  3.94599997e-02, -3.56669992e-01, -5.73189974e-01,\n",
       "       -5.31300008e-01, -7.41129965e-02,  2.37460002e-01,  1.39070004e-01,\n",
       "       -1.97349995e-01, -7.66979992e-01,  3.54669988e-01, -6.05229974e-01,\n",
       "       -1.23709999e-01,  4.40109998e-01, -7.33229995e-01, -1.15369999e+00,\n",
       "       -9.00439978e-01, -3.02700013e-01, -5.50440013e-01, -2.37509996e-01,\n",
       "        1.00139999e+00,  2.04429999e-01,  1.30920000e-02,  3.89450014e-01,\n",
       "        6.72950000e-02,  2.10339993e-01,  1.34509996e-01, -3.59730005e-01,\n",
       "       -2.96290003e-04,  1.64189994e-01,  3.07859987e-01,  2.98170000e-01,\n",
       "       -7.21989989e-01,  8.97210002e-01, -4.45430011e-01,  1.40259996e-01,\n",
       "        2.28860006e-01,  4.06100005e-02,  8.30649972e-01, -3.20450008e-01,\n",
       "        5.06619990e-01, -4.24490005e-01,  4.21990007e-01, -2.85560012e-01,\n",
       "       -1.39550000e-01, -2.05270007e-01,  3.07009995e-01,  2.06619993e-01,\n",
       "        8.47679973e-02, -2.56209999e-01,  1.19369999e-02, -5.82660019e-01,\n",
       "        1.02210000e-01, -4.50250000e-01,  4.62610006e-01, -1.69399995e-02,\n",
       "       -1.74400002e-01,  2.09340006e-01, -5.14050007e-01,  2.47660000e-02,\n",
       "       -5.47410011e-01,  5.31000018e-01,  3.14220011e-01,  4.86739993e-01,\n",
       "        3.91669989e-01,  8.73799995e-02, -5.40340006e-01, -6.13110006e-01,\n",
       "       -2.69769996e-01, -3.63040000e-01, -5.40329993e-01,  1.18420003e-02,\n",
       "        1.69149995e-01, -1.32379994e-01,  1.48139998e-01,  1.31119996e-01,\n",
       "        1.25569999e-01, -7.24610016e-02,  2.20699996e-01, -4.45819981e-02,\n",
       "        1.08379997e-01, -1.34310007e-01,  3.46850008e-01,  2.83219993e-01,\n",
       "        5.12059987e-01,  3.95609997e-02,  4.33860004e-01,  3.36950004e-01,\n",
       "        2.86199987e-01,  5.40310025e-01,  1.20860004e+00,  3.85800004e-01,\n",
       "        5.36589980e-01, -2.88659990e-01,  1.99159995e-01, -3.00089985e-01,\n",
       "        1.09169997e-01, -5.70840001e-01,  5.10710001e-01,  4.40079987e-01,\n",
       "       -9.62919965e-02,  8.35099965e-02, -5.73230028e-01,  2.18070000e-01,\n",
       "        2.54469991e-01,  1.50049999e-01,  1.85720006e-03, -5.95460013e-02,\n",
       "        1.17260002e-01, -1.54730007e-01,  3.72390002e-02, -2.98680007e-01,\n",
       "        1.92780003e-01, -2.25669995e-01, -1.39599994e-01, -4.28549983e-02,\n",
       "       -1.85819998e-01, -3.74399990e-01, -3.55830006e-02, -2.79709995e-01,\n",
       "        6.57209992e-01, -9.64410007e-02, -3.72240007e-01,  3.43980007e-02,\n",
       "        1.17939999e-02, -1.22989997e-01,  3.85520011e-01, -3.30549985e-01,\n",
       "        1.65610000e-01, -9.32539999e-02, -3.17110002e-01, -2.87739992e-01,\n",
       "        4.88299996e-01,  9.61029977e-02,  9.77019966e-02,  7.21060019e-03,\n",
       "       -8.05099979e-02, -3.45310003e-01,  7.37890005e-01,  7.01749980e-01,\n",
       "       -2.11199999e-01, -2.48089999e-01, -7.53509998e-01, -6.64340019e-01,\n",
       "        1.38479993e-01, -9.27399993e-02,  3.46159995e-01, -3.76989990e-01,\n",
       "       -1.39060006e-01, -7.01470003e-02, -6.27009988e-01, -2.76400000e-01,\n",
       "        2.54990011e-01, -1.72000006e-01, -7.66770020e-02,  2.94050008e-01,\n",
       "       -7.65409991e-02,  2.71380007e-01, -1.09889999e-01,  1.11460000e-01,\n",
       "        1.85039997e-01,  1.25829995e-01, -1.32510006e-01,  2.56839991e-01,\n",
       "       -2.23150000e-01, -3.99100006e-01, -8.16240013e-02, -7.49329999e-02,\n",
       "       -1.54980004e-01, -1.88109994e-01, -1.40359998e-01, -7.36209974e-02,\n",
       "        2.44309995e-02, -2.56460011e-01, -3.33039999e-01, -3.02870005e-01,\n",
       "        2.59180009e-01, -2.54790001e-02, -4.89169993e-02,  5.42029977e-01,\n",
       "        2.40400001e-01,  6.55070022e-02,  2.48160005e-01, -3.56020004e-01,\n",
       "       -5.12660027e-01, -2.09450006e-01,  1.96100008e-02, -5.09859994e-02,\n",
       "       -1.07320003e-01, -9.59860012e-02, -5.92679977e-01, -4.54350002e-02,\n",
       "        1.86090007e-01,  1.87910005e-01,  4.17140007e-01,  1.33670002e-01,\n",
       "       -3.20989996e-01, -2.86630005e-01, -3.44309986e-01, -5.20730019e-01,\n",
       "        3.74410003e-02, -4.16570008e-02,  2.77990013e-01,  5.41000009e-01,\n",
       "       -1.51319996e-01,  2.70159990e-01, -1.11520000e-01,  3.57749999e-01,\n",
       "        2.73000002e-01,  2.73510009e-01, -2.48380005e-02, -7.65410006e-01,\n",
       "        6.38130009e-01,  8.16259980e-02, -2.12420002e-01, -6.04340017e-01,\n",
       "       -4.64300007e-01,  2.62169987e-01, -4.40649986e-01,  6.46200031e-02,\n",
       "       -5.09000011e-03, -3.16280007e-01, -1.42660007e-01,  2.49469995e-01,\n",
       "       -5.64050019e-01, -4.93250012e-01, -3.49900007e-01, -4.42519993e-01])"
      ]
     },
     "execution_count": 161,
     "metadata": {},
     "output_type": "execute_result"
    }
   ],
   "source": [
    "test_title_glove[0]"
   ]
  },
  {
   "cell_type": "code",
   "execution_count": 28,
   "metadata": {},
   "outputs": [],
   "source": [
    "X_train=np.delete(X_train,[4,9,10,12],axis=1)\n",
    "X_test=np.delete(X_test,[4,9,10,12],axis=1)"
   ]
  },
  {
   "cell_type": "code",
   "execution_count": null,
   "metadata": {},
   "outputs": [],
   "source": [
    "#if you don't want separate unstandardized version, standardize X_train and X_test before concatenating."
   ]
  },
  {
   "cell_type": "code",
   "execution_count": 163,
   "metadata": {},
   "outputs": [],
   "source": [
    "train=np.hstack((X_train,train_title_glove,X_train_Language_one_hot,X_train_Genres_all_one_hot,X_train_Artist_ID_one_hot))\n",
    "test=np.hstack((X_test,test_title_glove,X_test_Language_one_hot,X_test_Genres_all_one_hot,X_test_Artist_ID_one_hot))"
   ]
  },
  {
   "cell_type": "code",
   "execution_count": 167,
   "metadata": {},
   "outputs": [],
   "source": [
    "metadata_split_order=np.vstack((train,test))"
   ]
  },
  {
   "cell_type": "code",
   "execution_count": 168,
   "metadata": {},
   "outputs": [
    {
     "data": {
      "text/plain": [
       "(7997, 2495)"
      ]
     },
     "execution_count": 168,
     "metadata": {},
     "output_type": "execute_result"
    }
   ],
   "source": [
    "metadata_split_order.shape #order of audios is based on train-test split"
   ]
  },
  {
   "cell_type": "code",
   "execution_count": 169,
   "metadata": {},
   "outputs": [],
   "source": [
    "np.save('metadata_split_order',metadata_split_order)"
   ]
  },
  {
   "cell_type": "code",
   "execution_count": 3,
   "metadata": {},
   "outputs": [],
   "source": [
    "metadata_split_order=np.load('metadata_split_order.npy',allow_pickle=True)"
   ]
  },
  {
   "cell_type": "markdown",
   "metadata": {},
   "source": [
    "### Standardize numerical features of meta data:"
   ]
  },
  {
   "cell_type": "code",
   "execution_count": 4,
   "metadata": {},
   "outputs": [
    {
     "data": {
      "text/plain": [
       "matrix([[2013.0, -1.0, -1.0, ..., -0.15846000611782074,\n",
       "         0.0029458000790327787, -0.5783299803733826],\n",
       "        [-1.0, 2014.0, -1.0, ..., -0.35471951123327017,\n",
       "         -0.13272449746727943, -0.3517549932003021],\n",
       "        [-1.0, -1.0, -1.0, ..., -0.13097499310970306, 0.4521450102329254,\n",
       "         0.1337999850511551],\n",
       "        ...,\n",
       "        [-1.0, -1.0, -1.0, ..., -0.2461896024644375, 0.16746579855680466,\n",
       "         -0.09217440150678158],\n",
       "        [-1.0, 2008.0, 2015.0, ..., 0.004820000380277634,\n",
       "         -0.5068949908018112, -0.09353250358253717],\n",
       "        [2012.0, -1.0, -1.0, ..., 0.0, 0.0, 0.0]], dtype=object)"
      ]
     },
     "execution_count": 4,
     "metadata": {},
     "output_type": "execute_result"
    }
   ],
   "source": [
    "metadata_split_order[:,0:12]"
   ]
  },
  {
   "cell_type": "code",
   "execution_count": 29,
   "metadata": {},
   "outputs": [
    {
     "data": {
      "text/plain": [
       "array([[ 0.67598842, -0.48887555, -0.21474337, ..., -0.58171965,\n",
       "         0.77234178,  0.21360071],\n",
       "       [-1.41039817, -0.48887555, -0.21474337, ...,  0.23895809,\n",
       "        -0.21980668, -0.1214707 ],\n",
       "       [ 0.71179718, -0.48887555, -0.21474337, ..., -0.78688909,\n",
       "        -0.14348757, -0.29554161],\n",
       "       ...,\n",
       "       [-1.41039817, -0.48887555, -0.21474337, ..., -0.2021562 ,\n",
       "        -0.10532801, -0.32666888],\n",
       "       [-1.41039817,  2.05279022,  4.66817559, ...,  1.2135129 ,\n",
       "        -0.06716845,  0.05532008],\n",
       "       [ 0.70969078, -0.48887555, -0.21474337, ...,  0.1261149 ,\n",
       "        -0.25796624, -0.21220818]])"
      ]
     },
     "execution_count": 29,
     "metadata": {},
     "output_type": "execute_result"
    }
   ],
   "source": [
    "scaler = sklearn.preprocessing.StandardScaler(copy=False) #inplace\n",
    "scaler.fit_transform(X_train)\n",
    "scaler.transform(X_test)"
   ]
  },
  {
   "cell_type": "code",
   "execution_count": 31,
   "metadata": {},
   "outputs": [],
   "source": [
    "train=np.hstack((X_train,metadata_split_order[0:6397,9:]))\n",
    "test=np.hstack((X_test,metadata_split_order[6397:,9:]))"
   ]
  },
  {
   "cell_type": "code",
   "execution_count": 32,
   "metadata": {},
   "outputs": [],
   "source": [
    "metadata_split_order_standardize=np.vstack((train,test))"
   ]
  },
  {
   "cell_type": "code",
   "execution_count": 33,
   "metadata": {},
   "outputs": [
    {
     "data": {
      "text/plain": [
       "(7997, 2495)"
      ]
     },
     "execution_count": 33,
     "metadata": {},
     "output_type": "execute_result"
    }
   ],
   "source": [
    "metadata_split_order_standardize.shape"
   ]
  },
  {
   "cell_type": "code",
   "execution_count": 35,
   "metadata": {},
   "outputs": [],
   "source": [
    "np.save('metadata_split_order_standardize',metadata_split_order_standardize)"
   ]
  },
  {
   "cell_type": "code",
   "execution_count": null,
   "metadata": {},
   "outputs": [],
   "source": []
  }
 ],
 "metadata": {
  "kernelspec": {
   "display_name": "Python 3",
   "language": "python",
   "name": "python3"
  },
  "language_info": {
   "codemirror_mode": {
    "name": "ipython",
    "version": 3
   },
   "file_extension": ".py",
   "mimetype": "text/x-python",
   "name": "python",
   "nbconvert_exporter": "python",
   "pygments_lexer": "ipython3",
   "version": "3.6.5"
  }
 },
 "nbformat": 4,
 "nbformat_minor": 4
}
